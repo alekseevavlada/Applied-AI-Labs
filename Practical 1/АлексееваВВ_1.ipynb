{
  "cells": [
    {
      "cell_type": "markdown",
      "metadata": {
        "id": "4XicwJpvnguz"
      },
      "source": [
        "# Практическое задание № 1. Классификация\n"
      ]
    },
    {
      "cell_type": "markdown",
      "metadata": {
        "id": "uzsNZ_EOngu1"
      },
      "source": [
        "**Работу выполнила:**\n",
        "\n",
        "Алексеева Влада Вадимовна, ITMO ID 367801"
      ]
    },
    {
      "cell_type": "markdown",
      "metadata": {
        "datalore": {
          "hide_input_from_viewers": true,
          "hide_output_from_viewers": true,
          "node_id": "65baONV00WsOUl0mBEn7mB",
          "type": "MD"
        },
        "id": "kdqe9jJ2ngu1"
      },
      "source": [
        "# Распознавание активности человека (Human Activity Recognition, HAR)\n",
        "\n",
        "Необходимо по данным с мобильных сенсоров при помощи прикладных алгоритмов машинного обучения предсказать активность человека по шести классам движений:\n",
        "* Движется по прямой\n",
        "* Движется вверх (например, движение по лестнице вверх)\n",
        "* Движется вниз (например, движение по лестнице вниз)\n",
        "* Сидит\n",
        "* Стоит\n",
        "* Лежит\n",
        "\n",
        "## Сведения о наборе данных\n",
        "Набор данных содержит записи датчиков со смартфонов (акселерометр и гироскоп с частотой дискретизации 50 Гц) от 30 участников, выполняющих следующие действия: ходьба, ходьба по лестнице, ходьба по лестнице, сидение, стояние и лежание. Данные были предварительно обработаны при помощи фильтров шума. Набор данных представлен Хорхе Л. Рейес-Ортисом.\n",
        "\n",
        "Признаки были извлечены из 3-х осевых необработанных сигналов акселерометра и гироскопа tAcc-XYZ и tGyro-XYZ. Эти сигналы были сняты с постоянной частотой 50 Гц. Затем были отфильтрованы с помощью медианного фильтра и низкочастотного фильтра Баттерворта 3-го порядка с частотой 20 Гц для удаления шумов. Аналогичным образом сигнал ускорения был разделен на сигналы ускорения тела и гравитации (`tBodyAcc-XYZ` и `tGravityAcc-XYZ`) с помощью другого низкочастотного фильтра Баттерворта с угловой частотой 0,3 Гц. Линейное ускорение тела и угловая скорость были использованы для получения сигналов \"рывка\" — (`tBodyAccJerk-XYZ` и `tBodyGyroJerk-XYZ`). Также величина этих трехмерных сигналов была рассчитана с использованием евклидовой нормы — (`tBodyAccMag`, `tGravityAccMag`, `tBodyAccJerkMag`, `tBodyGyroMag`, `tBodyGyroJerkMag`).\n",
        "\n",
        "Наконец, к некоторым из этих сигналов было применено быстрое преобразование Фурье (БПФ), в результате чего получились `fBodyAcc-XYZ`, `fBodyAccJerk-XYZ`, `fBodyGyro-XYZ`, `fBodyAccJerkMag`, `fBodyGyroMag`, `fBodyGyroJerkMag`.\n",
        "\n",
        "Набор переменных, которые были оценены по этим сигналам, следующий:\n",
        "* mean(): Среднее значение\n",
        "* std(): Стандартное отклонение\n",
        "* mad(): Среднее абсолютное отклонение\n",
        "* max(): Наибольшее значение в массиве\n",
        "* min(): Наименьшее значение в массиве\n",
        "* sma(): Область величины сигнала\n",
        "* energy(): Мера энергии. Сумма квадратов, деленная на количество значений.\n",
        "* iqr(): Интерквартильный размах\n",
        "* entropy(): Энтропия сигнала\n",
        "* arCoeff(): Коэффициенты авторегрессии с порядком Burg, равным 4\n",
        "* correlation(): коэффициент корреляции между двумя сигналами\n",
        "* maxInds(): индекс частотной составляющей с наибольшей величиной\n",
        "* meanFreq(): средневзвешенное значение частотных компонент для получения средней частоты\n",
        "* skewness(): перекос сигнала в частотной области\n",
        "* kurtosis(): эксцесс сигнала в частотной области\n",
        "* bandsEnergy(): Энергия частотного интервала в пределах 64 бинов БПФ каждого окна.\n",
        "* angle(): Угол между векторами.\n",
        "## Импорт библиотек\n",
        "Первым делом импортируем необходимые библиотеки для работы с данными:"
      ]
    },
    {
      "cell_type": "code",
      "execution_count": 13,
      "metadata": {
        "datalore": {
          "hide_input_from_viewers": true,
          "hide_output_from_viewers": true,
          "node_id": "TzA30C5txlPCx905qKUzmx",
          "type": "CODE"
        },
        "id": "vo-yxq29ngu2"
      },
      "outputs": [],
      "source": [
        "import os\n",
        "import numpy as np\n",
        "import pandas as pd"
      ]
    },
    {
      "cell_type": "markdown",
      "metadata": {
        "datalore": {
          "hide_input_from_viewers": true,
          "hide_output_from_viewers": true,
          "node_id": "nD59cMaNdT5dJig8Kb7R1X",
          "type": "MD"
        },
        "id": "uwQd4-nIngu2"
      },
      "source": [
        "## Считываем набор данных\n",
        "\n",
        "В рамках работы воспользуемся предобработанными данными."
      ]
    },
    {
      "cell_type": "code",
      "execution_count": 14,
      "metadata": {
        "colab": {
          "base_uri": "https://localhost:8080/",
          "height": 270
        },
        "datalore": {
          "hide_input_from_viewers": true,
          "hide_output_from_viewers": true,
          "node_id": "vpBrpkTQTOee0O87NtQUy4",
          "type": "CODE"
        },
        "id": "WtlKLni6ngu2",
        "outputId": "9d270b8e-4468-4247-922a-716293f2838b"
      },
      "outputs": [
        {
          "data": {
            "text/html": [
              "<div>\n",
              "<style scoped>\n",
              "    .dataframe tbody tr th:only-of-type {\n",
              "        vertical-align: middle;\n",
              "    }\n",
              "\n",
              "    .dataframe tbody tr th {\n",
              "        vertical-align: top;\n",
              "    }\n",
              "\n",
              "    .dataframe thead th {\n",
              "        text-align: right;\n",
              "    }\n",
              "</style>\n",
              "<table border=\"1\" class=\"dataframe\">\n",
              "  <thead>\n",
              "    <tr style=\"text-align: right;\">\n",
              "      <th></th>\n",
              "      <th>tBodyAcc-mean()-X</th>\n",
              "      <th>tBodyAcc-mean()-Y</th>\n",
              "      <th>tBodyAcc-mean()-Z</th>\n",
              "      <th>tBodyAcc-std()-X</th>\n",
              "      <th>tBodyAcc-std()-Y</th>\n",
              "      <th>tBodyAcc-std()-Z</th>\n",
              "      <th>tBodyAcc-mad()-X</th>\n",
              "      <th>tBodyAcc-mad()-Y</th>\n",
              "      <th>tBodyAcc-mad()-Z</th>\n",
              "      <th>tBodyAcc-max()-X</th>\n",
              "      <th>...</th>\n",
              "      <th>fBodyBodyGyroJerkMag-kurtosis()</th>\n",
              "      <th>angle(tBodyAccMean,gravity)</th>\n",
              "      <th>angle(tBodyAccJerkMean),gravityMean)</th>\n",
              "      <th>angle(tBodyGyroMean,gravityMean)</th>\n",
              "      <th>angle(tBodyGyroJerkMean,gravityMean)</th>\n",
              "      <th>angle(X,gravityMean)</th>\n",
              "      <th>angle(Y,gravityMean)</th>\n",
              "      <th>angle(Z,gravityMean)</th>\n",
              "      <th>subject</th>\n",
              "      <th>Activity</th>\n",
              "    </tr>\n",
              "  </thead>\n",
              "  <tbody>\n",
              "    <tr>\n",
              "      <th>0</th>\n",
              "      <td>0.288585</td>\n",
              "      <td>-0.020294</td>\n",
              "      <td>-0.132905</td>\n",
              "      <td>-0.995279</td>\n",
              "      <td>-0.983111</td>\n",
              "      <td>-0.913526</td>\n",
              "      <td>-0.995112</td>\n",
              "      <td>-0.983185</td>\n",
              "      <td>-0.923527</td>\n",
              "      <td>-0.934724</td>\n",
              "      <td>...</td>\n",
              "      <td>-0.710304</td>\n",
              "      <td>-0.112754</td>\n",
              "      <td>0.030400</td>\n",
              "      <td>-0.464761</td>\n",
              "      <td>-0.018446</td>\n",
              "      <td>-0.841247</td>\n",
              "      <td>0.179941</td>\n",
              "      <td>-0.058627</td>\n",
              "      <td>1</td>\n",
              "      <td>STANDING</td>\n",
              "    </tr>\n",
              "    <tr>\n",
              "      <th>1</th>\n",
              "      <td>0.278419</td>\n",
              "      <td>-0.016411</td>\n",
              "      <td>-0.123520</td>\n",
              "      <td>-0.998245</td>\n",
              "      <td>-0.975300</td>\n",
              "      <td>-0.960322</td>\n",
              "      <td>-0.998807</td>\n",
              "      <td>-0.974914</td>\n",
              "      <td>-0.957686</td>\n",
              "      <td>-0.943068</td>\n",
              "      <td>...</td>\n",
              "      <td>-0.861499</td>\n",
              "      <td>0.053477</td>\n",
              "      <td>-0.007435</td>\n",
              "      <td>-0.732626</td>\n",
              "      <td>0.703511</td>\n",
              "      <td>-0.844788</td>\n",
              "      <td>0.180289</td>\n",
              "      <td>-0.054317</td>\n",
              "      <td>1</td>\n",
              "      <td>STANDING</td>\n",
              "    </tr>\n",
              "    <tr>\n",
              "      <th>2</th>\n",
              "      <td>0.279653</td>\n",
              "      <td>-0.019467</td>\n",
              "      <td>-0.113462</td>\n",
              "      <td>-0.995380</td>\n",
              "      <td>-0.967187</td>\n",
              "      <td>-0.978944</td>\n",
              "      <td>-0.996520</td>\n",
              "      <td>-0.963668</td>\n",
              "      <td>-0.977469</td>\n",
              "      <td>-0.938692</td>\n",
              "      <td>...</td>\n",
              "      <td>-0.760104</td>\n",
              "      <td>-0.118559</td>\n",
              "      <td>0.177899</td>\n",
              "      <td>0.100699</td>\n",
              "      <td>0.808529</td>\n",
              "      <td>-0.848933</td>\n",
              "      <td>0.180637</td>\n",
              "      <td>-0.049118</td>\n",
              "      <td>1</td>\n",
              "      <td>STANDING</td>\n",
              "    </tr>\n",
              "    <tr>\n",
              "      <th>3</th>\n",
              "      <td>0.279174</td>\n",
              "      <td>-0.026201</td>\n",
              "      <td>-0.123283</td>\n",
              "      <td>-0.996091</td>\n",
              "      <td>-0.983403</td>\n",
              "      <td>-0.990675</td>\n",
              "      <td>-0.997099</td>\n",
              "      <td>-0.982750</td>\n",
              "      <td>-0.989302</td>\n",
              "      <td>-0.938692</td>\n",
              "      <td>...</td>\n",
              "      <td>-0.482845</td>\n",
              "      <td>-0.036788</td>\n",
              "      <td>-0.012892</td>\n",
              "      <td>0.640011</td>\n",
              "      <td>-0.485366</td>\n",
              "      <td>-0.848649</td>\n",
              "      <td>0.181935</td>\n",
              "      <td>-0.047663</td>\n",
              "      <td>1</td>\n",
              "      <td>STANDING</td>\n",
              "    </tr>\n",
              "    <tr>\n",
              "      <th>4</th>\n",
              "      <td>0.276629</td>\n",
              "      <td>-0.016570</td>\n",
              "      <td>-0.115362</td>\n",
              "      <td>-0.998139</td>\n",
              "      <td>-0.980817</td>\n",
              "      <td>-0.990482</td>\n",
              "      <td>-0.998321</td>\n",
              "      <td>-0.979672</td>\n",
              "      <td>-0.990441</td>\n",
              "      <td>-0.942469</td>\n",
              "      <td>...</td>\n",
              "      <td>-0.699205</td>\n",
              "      <td>0.123320</td>\n",
              "      <td>0.122542</td>\n",
              "      <td>0.693578</td>\n",
              "      <td>-0.615971</td>\n",
              "      <td>-0.847865</td>\n",
              "      <td>0.185151</td>\n",
              "      <td>-0.043892</td>\n",
              "      <td>1</td>\n",
              "      <td>STANDING</td>\n",
              "    </tr>\n",
              "  </tbody>\n",
              "</table>\n",
              "<p>5 rows × 563 columns</p>\n",
              "</div>"
            ],
            "text/plain": [
              "   tBodyAcc-mean()-X  tBodyAcc-mean()-Y  tBodyAcc-mean()-Z  tBodyAcc-std()-X  \\\n",
              "0           0.288585          -0.020294          -0.132905         -0.995279   \n",
              "1           0.278419          -0.016411          -0.123520         -0.998245   \n",
              "2           0.279653          -0.019467          -0.113462         -0.995380   \n",
              "3           0.279174          -0.026201          -0.123283         -0.996091   \n",
              "4           0.276629          -0.016570          -0.115362         -0.998139   \n",
              "\n",
              "   tBodyAcc-std()-Y  tBodyAcc-std()-Z  tBodyAcc-mad()-X  tBodyAcc-mad()-Y  \\\n",
              "0         -0.983111         -0.913526         -0.995112         -0.983185   \n",
              "1         -0.975300         -0.960322         -0.998807         -0.974914   \n",
              "2         -0.967187         -0.978944         -0.996520         -0.963668   \n",
              "3         -0.983403         -0.990675         -0.997099         -0.982750   \n",
              "4         -0.980817         -0.990482         -0.998321         -0.979672   \n",
              "\n",
              "   tBodyAcc-mad()-Z  tBodyAcc-max()-X  ...  fBodyBodyGyroJerkMag-kurtosis()  \\\n",
              "0         -0.923527         -0.934724  ...                        -0.710304   \n",
              "1         -0.957686         -0.943068  ...                        -0.861499   \n",
              "2         -0.977469         -0.938692  ...                        -0.760104   \n",
              "3         -0.989302         -0.938692  ...                        -0.482845   \n",
              "4         -0.990441         -0.942469  ...                        -0.699205   \n",
              "\n",
              "   angle(tBodyAccMean,gravity)  angle(tBodyAccJerkMean),gravityMean)  \\\n",
              "0                    -0.112754                              0.030400   \n",
              "1                     0.053477                             -0.007435   \n",
              "2                    -0.118559                              0.177899   \n",
              "3                    -0.036788                             -0.012892   \n",
              "4                     0.123320                              0.122542   \n",
              "\n",
              "   angle(tBodyGyroMean,gravityMean)  angle(tBodyGyroJerkMean,gravityMean)  \\\n",
              "0                         -0.464761                             -0.018446   \n",
              "1                         -0.732626                              0.703511   \n",
              "2                          0.100699                              0.808529   \n",
              "3                          0.640011                             -0.485366   \n",
              "4                          0.693578                             -0.615971   \n",
              "\n",
              "   angle(X,gravityMean)  angle(Y,gravityMean)  angle(Z,gravityMean)  subject  \\\n",
              "0             -0.841247              0.179941             -0.058627        1   \n",
              "1             -0.844788              0.180289             -0.054317        1   \n",
              "2             -0.848933              0.180637             -0.049118        1   \n",
              "3             -0.848649              0.181935             -0.047663        1   \n",
              "4             -0.847865              0.185151             -0.043892        1   \n",
              "\n",
              "   Activity  \n",
              "0  STANDING  \n",
              "1  STANDING  \n",
              "2  STANDING  \n",
              "3  STANDING  \n",
              "4  STANDING  \n",
              "\n",
              "[5 rows x 563 columns]"
            ]
          },
          "execution_count": 14,
          "metadata": {},
          "output_type": "execute_result"
        }
      ],
      "source": [
        "def read_data(filename):\n",
        "    return pd.read_csv(filename)\n",
        "\n",
        "# Считывание CSV-файла и возвращение его как объект pandas.DataFrame\n",
        "df = read_data('train.csv')\n",
        "df.head()"
      ]
    },
    {
      "cell_type": "markdown",
      "metadata": {},
      "source": [
        "Вы видите таблицу, где каждая строка – это один сэмпл (окно данных), а столбцы – это 561 извлеченный признак (среднее, стандартное отклонение и т.д. для различных сигналов) плюс два служебных столбца в конце: subject (номер волонтера) и Activity (метка класса, например, 'STANDING')."
      ]
    },
    {
      "cell_type": "markdown",
      "metadata": {
        "datalore": {
          "hide_input_from_viewers": true,
          "hide_output_from_viewers": true,
          "node_id": "1OJVLWWQ1b55HKqquqaCpb",
          "type": "MD"
        },
        "id": "9pW7qwZhngu3"
      },
      "source": [
        "Теперь, сохраним полный набор данных под следующими четырьмя переменными:\n",
        "\n",
        "* `train_X`: признаки, используемые для обучения модели\n",
        "* `train_y`: метки, используемые для обучения модели\n",
        "* `test_X`: признаки, используемые для проверки модели\n",
        "* `test_y`: метки, используемые для проверки модели"
      ]
    },
    {
      "cell_type": "code",
      "execution_count": 15,
      "metadata": {
        "datalore": {
          "hide_input_from_viewers": true,
          "hide_output_from_viewers": true,
          "node_id": "umrZvD6ekBlIjjgq1F4hDE",
          "type": "CODE"
        },
        "id": "Cw94P0Ubngu3"
      },
      "outputs": [],
      "source": [
        "# Функция, которая загружает и разделяет данные\n",
        "def load_dataset(label_dict):\n",
        "    # Матрица признаков для обучения \n",
        "    train_X = read_data('train.csv').values[:,:-2] # .values[:,:-2] означает взять все строки и все столбцы, кроме последних двух (последние два – это subject и Activity)\n",
        "    \n",
        "    # Вектор целевых меток для обучения \n",
        "    train_y = read_data('train.csv')['Activity'] # Сначала выбирается столбец 'Activity'\n",
        "    train_y = train_y.map(label_dict).values # .map(label_dict) текстовые метки заменяются на числа из словаря\n",
        "    # .values преобразует результат в массив numpy\n",
        "\n",
        "    # Аналогичным образом загружаются данные из файла test.csv для финальной оценки модели\n",
        "    test_X = read_data('test.csv').values[:,:-2]\n",
        "    test_y = read_data('test.csv')\n",
        "    test_y = test_y['Activity'].map(label_dict).values\n",
        "\n",
        "    return(train_X, train_y, test_X, test_y)\n",
        "\n",
        "label_dict = {'WALKING':0, 'WALKING_UPSTAIRS':1, 'WALKING_DOWNSTAIRS':2, 'SITTING':3, 'STANDING':4, 'LAYING':5}\n",
        "\n",
        "train_X, train_y, test_X, test_y = load_dataset(label_dict)"
      ]
    },
    {
      "cell_type": "markdown",
      "metadata": {
        "datalore": {
          "hide_input_from_viewers": true,
          "hide_output_from_viewers": true,
          "node_id": "rzFpETjrvFpl2hD2bD7jYC",
          "type": "MD"
        },
        "id": "zn1NwH8Mngu3"
      },
      "source": [
        "## Выбор моделей для сравнения\n",
        "\n",
        "На основе анализа литературы, для задачи Human Activity Recognition (HAR) часто используются и показывают хорошие результаты следующие классические модели: **k-ближайших соседей (k-NN), метод опорных векторов (SVM) и случайный лес (Random Forest**). Эти модели были выбраны для сравнения полученных результатов."
      ]
    },
    {
      "cell_type": "code",
      "execution_count": 16,
      "metadata": {
        "datalore": {
          "hide_input_from_viewers": true,
          "hide_output_from_viewers": true,
          "node_id": "YJ9zPxZwd9nVxkWVvE1Ua9",
          "type": "CODE"
        },
        "id": "8ikzkhuKngu3"
      },
      "outputs": [],
      "source": [
        "from sklearn.ensemble import RandomForestClassifier\n",
        "from sklearn.neighbors import KNeighborsClassifier\n",
        "from sklearn.svm import SVC\n",
        "from sklearn.linear_model import LogisticRegression\n",
        "\n",
        "# Словарь, содержащий экземпляры (инициализированные, но не обученные) моделей\n",
        "# Параметры по умолчанию задаются здесь, но они будут перезаписаны в процессе подбора гиперпараметров\n",
        "models = {\n",
        "    'Logistic Regression': LogisticRegression(max_iter=1000, random_state=42),\n",
        "    'k-Nearest Neighbors': KNeighborsClassifier(),\n",
        "    'Support Vector Machine': SVC(random_state=42),\n",
        "    'Random Forest': RandomForestClassifier(random_state=42)\n",
        "}\n",
        "\n",
        "# Словарь, который для каждой модели определяет сетку гиперпараметров для перебора\n",
        "# Например, для k-Nearest Neighbors будет проверено, какая модель лучше: с 3, 5 или 7 соседями\n",
        "param_grids = {\n",
        "    'Logistic Regression': {'C': [0.1, 1, 10]},\n",
        "    'k-Nearest Neighbors': {'n_neighbors': [3, 5, 7]},\n",
        "    'Support Vector Machine': {'C': [1, 10, 100], 'gamma': ['scale', 0.1, 0.01], 'kernel': ['rbf']},\n",
        "    'Random Forest': {'n_estimators': [100, 500, 1000], 'max_depth': [None, 10, 20]}\n",
        "}"
      ]
    },
    {
      "cell_type": "markdown",
      "metadata": {
        "id": "KfFs4ZVBHamT"
      },
      "source": [
        "# Мотивация выбора и описание гиперпараметров\n",
        "\n",
        "**Гиперпараметры** — это конфигурационные настройки, которые определяются до начала процесса обучения модели и не обучаются на данных. Они задаются исследователем и напрямую влияют на структуру модели и процесс ее обучения.\n",
        "\n",
        "**Logistic Regression** – `C` контролирует компромисс между подгонкой к обучающим данным и простотой модели (регуляризацией). Низкое `C` приводит к более простой, но, возможно, недообученной модели. Высокое `C` позволяет модели лучше подстроиться под данные, но рискует переобучиться.\n",
        "\n",
        "**k-Nearest Neighbors** – `n_neighbors` определяет, сколько соседей учитывать при голосовании. Маленькое значение делает модель чувствительной к шуму (высокая дисперсия), большое значение сглаживает границы классов и может привести к недообучению (высокое смещение).\n",
        "\n",
        "**Support Vector Machine (SVM)** – `C` управляет компромиссом между максимизацией ширины разделяющей полосы и минимизацией ошибок классификации. `gamma` (для RBF-ядра) определяет, насколько далеко простирается влияние одного обучающего примера. Низкое `gamma` означает дальнее влияние, высокое `gamma` ближнее влияние.\n",
        "\n",
        "**Random Forest** – `n_estimators` (число деревьев) обычно ведет к улучшению качества до определенного предела, после чего прирост становится минимальным. `max_depth` ограничивает сложность каждого дерева; слишком большая глубина может привести к переобучению отдельных деревьев, но ансамбль в целом к этому устойчив."
      ]
    },
    {
      "cell_type": "markdown",
      "metadata": {
        "datalore": {
          "hide_input_from_viewers": true,
          "hide_output_from_viewers": true,
          "node_id": "HhCKE5nr9ZzWXIefwTXzuq",
          "type": "MD"
        },
        "id": "cjcQL5oWngu3"
      },
      "source": [
        "## Обучение, оценка и сравнение моделей\n",
        "\n",
        "Для объективного сравнения моделей недостаточно использовать однократное разбиение на train/test. Лучше всего использовать **кросс-валидацию** на обучающем наборе, чтобы оценить обобщающую способность каждой модели до финальной оценки на тестовом наборе."
      ]
    },
    {
      "cell_type": "code",
      "execution_count": 17,
      "metadata": {
        "colab": {
          "base_uri": "https://localhost:8080/"
        },
        "datalore": {
          "hide_input_from_viewers": true,
          "hide_output_from_viewers": true,
          "node_id": "Dvg6HvHJDHHEIHEdXFnrnh",
          "type": "CODE"
        },
        "id": "GkaQFP2Tngu4",
        "outputId": "404a139e-8884-4f3e-ed51-4f9d24c21000"
      },
      "outputs": [
        {
          "name": "stdout",
          "output_type": "stream",
          "text": [
            "Обработка: Logistic Regression\n",
            "Обработка: k-Nearest Neighbors\n",
            "Обработка: Support Vector Machine\n",
            "Обработка: Random Forest\n"
          ]
        }
      ],
      "source": [
        "from sklearn.model_selection import cross_val_score, GridSearchCV, StratifiedKFold\n",
        "from sklearn.metrics import accuracy_score, f1_score\n",
        "\n",
        "results = []\n",
        "best_model = {}\n",
        "\n",
        "# Создается объект для стратифицированной 5-кратной кросс-валидации\n",
        "# Это означает, что при каждом разбиении данных на 5 частей, пропорции классов в каждой части будут такими же, как и в полном наборе\n",
        "# Это важно для несбалансированных данных\n",
        "cv = StratifiedKFold(n_splits=5, shuffle=True, random_state=42)\n",
        "\n",
        "# Обучение на полном train_X\n",
        "for name, model in models.items():\n",
        "    print(f'Обработка: {name}')\n",
        "\n",
        "    # GridSearchCV\n",
        "    # Перебирает все комбинации гиперпараметров из param_grids \n",
        "    # Для каждой комбинации проводит 5-кратную кросс-валидацию на train_X \n",
        "    # Оценивает каждую комбинацию по метрике f1_macro (средневзвешенная F1-мера по всем классам) \n",
        "    # Находит комбинацию гиперпараметров, которая дала наилучший результат на кросс-валидации\n",
        "    grid = GridSearchCV(model, param_grids[name], cv=cv, scoring='f1_macro', n_jobs=-1)\n",
        "\n",
        "    grid.fit(train_X, train_y) # Запускает процесс подбора гиперпараметров и обучения\n",
        "    best_model[name] = grid.best_estimator_ # Лучшая модель (с оптимальными гиперпараметрами), найденная в процессе поиска\n",
        "    cv_score = grid.best_score_ # Лучший результат на кросс-валидации (CV F1-macro)\n",
        "\n",
        "    # Используем лучшую модель для предсказания на тестовом наборе\n",
        "    y_pred = grid.best_estimator_.predict(test_X)\n",
        "\n",
        "    # Вычисляются две финальные метрики качества на тестовых данных\n",
        "    test_acc = accuracy_score(test_y, y_pred)\n",
        "    test_f1 = f1_score(test_y, y_pred, average='macro')\n",
        "\n",
        "    results.append({\n",
        "        'Model': name,\n",
        "        'Best Params': grid.best_params_,\n",
        "        'CV F1-macro': round(cv_score, 4),\n",
        "        'Test Accuracy': round(test_acc, 4),\n",
        "        'Test F1-macro': round(test_f1, 4)\n",
        "    })"
      ]
    },
    {
      "cell_type": "code",
      "execution_count": 18,
      "metadata": {
        "colab": {
          "base_uri": "https://localhost:8080/"
        },
        "id": "K8UM25MbvGeI",
        "outputId": "ca9fe230-5a1e-4308-f59a-2908b2ba169b"
      },
      "outputs": [
        {
          "name": "stdout",
          "output_type": "stream",
          "text": [
            "\n",
            "Сравнительная таблица моделей:\n",
            "                 Model                                Best Params  CV F1-macro  Test Accuracy  Test F1-macro\n",
            "   Logistic Regression                                   {'C': 1}       0.9872         0.9610         0.9609\n",
            "   k-Nearest Neighbors                         {'n_neighbors': 3}       0.9708         0.8907         0.8878\n",
            "Support Vector Machine {'C': 100, 'gamma': 0.01, 'kernel': 'rbf'}       0.9919         0.9654         0.9649\n",
            "         Random Forest     {'max_depth': 20, 'n_estimators': 100}       0.9820         0.9237         0.9220\n"
          ]
        }
      ],
      "source": [
        "# Визуализация результатов кросс-валидации\n",
        "results_df = pd.DataFrame(results)\n",
        "print('\\nСравнительная таблица моделей:')\n",
        "print(results_df.to_string(index=False))"
      ]
    },
    {
      "cell_type": "markdown",
      "metadata": {
        "id": "RBwxzvkZSWnQ"
      },
      "source": [
        "# Объяснение метрик\n",
        "\n",
        "- `precision` **(Точность)**: Из всех случаев, которые модель предсказала как определенный класс (например, 'STANDING'), сколько на самом деле были этим классом? Это важно, когда ложные срабатывания (например, сказать, что человек идет вверх, когда он на самом деле стоит) нежелательны.\n",
        "\n",
        "- `recall` **(Полнота)**: Из всех реальных случаев определенного класса (все истинные 'STANDING'), сколько модель нашла и правильно предсказала? Это важно, когда пропуск события критичен.\n",
        "\n",
        "- `F1-score`: Гармоническое среднее между precision и recall. Это единая метрика, которая учитывает оба аспекта. F1-score близок к 1, когда обе метрики высоки, и близок к 0, когда хотя бы одна из них низкая."
      ]
    },
    {
      "cell_type": "markdown",
      "metadata": {
        "datalore": {
          "hide_input_from_viewers": true,
          "hide_output_from_viewers": true,
          "node_id": "RlwxdG1csNqjt5MwA3xRdd",
          "type": "MD"
        },
        "id": "2abBbw7bngu4"
      },
      "source": [
        "## Оценка лучшей модели\n",
        "Используем обученную модель для прогнозирования активности движения, используя признаки из тестового набора (`test_X`). Прогнозы сохраняем в списке `yhat`."
      ]
    },
    {
      "cell_type": "code",
      "execution_count": 19,
      "metadata": {
        "colab": {
          "base_uri": "https://localhost:8080/"
        },
        "datalore": {
          "hide_input_from_viewers": true,
          "hide_output_from_viewers": true,
          "node_id": "6co7FcTwbjXUcBYdxRkCmn",
          "type": "CODE"
        },
        "id": "t91Mexz2ngu4",
        "outputId": "3fad2b07-3d2c-4188-b711-0c7f6fbb40b6"
      },
      "outputs": [
        {
          "data": {
            "text/plain": [
              "array([4, 4, 4, ..., 1, 1, 1], shape=(2947,))"
            ]
          },
          "execution_count": 19,
          "metadata": {},
          "output_type": "execute_result"
        }
      ],
      "source": [
        "# Определение лучшей модели на основе Test F1-macro\n",
        "best_name = results_df.loc[results_df['Test F1-macro'].idxmax(), 'Model']\n",
        "best_model = best_model[best_name]\n",
        "\n",
        "# Предсказания для лучшей модели\n",
        "yhat = best_model.predict(test_X)\n",
        "yhat"
      ]
    },
    {
      "cell_type": "code",
      "execution_count": 20,
      "metadata": {
        "colab": {
          "base_uri": "https://localhost:8080/"
        },
        "datalore": {
          "hide_input_from_viewers": true,
          "hide_output_from_viewers": true,
          "node_id": "O1n5AL0m65kfoRsQB5z71P",
          "type": "CODE"
        },
        "id": "1sBSWMpangu4",
        "outputId": "ed74e6fc-451f-4b64-fc16-646bf9bbff58"
      },
      "outputs": [
        {
          "name": "stdout",
          "output_type": "stream",
          "text": [
            "Отчет о классификации для лучшей модели: Support Vector Machine\n",
            "\n",
            "                    precision    recall  f1-score   support\n",
            "\n",
            "           WALKING       0.89      0.96      0.92       496\n",
            "  WALKING UPSTAIRS       0.88      0.89      0.89       471\n",
            "WALKING DOWNSTAIRS       0.97      0.85      0.91       420\n",
            "           SITTING       0.90      0.90      0.90       491\n",
            "          STANDING       0.91      0.91      0.91       532\n",
            "            LAYING       1.00      1.00      1.00       537\n",
            "\n",
            "          accuracy                           0.92      2947\n",
            "         macro avg       0.93      0.92      0.92      2947\n",
            "      weighted avg       0.93      0.92      0.92      2947\n",
            "\n"
          ]
        }
      ],
      "source": [
        "from sklearn.metrics import classification_report\n",
        "target_names = ['WALKING', 'WALKING UPSTAIRS', 'WALKING DOWNSTAIRS', 'SITTING', 'STANDING', 'LAYING']\n",
        "\n",
        "print(f'Отчет о классификации для лучшей модели: {best_name}\\n')\n",
        "\n",
        "# Показывает метрики precision, recall и f1-score для каждого класса отдельно, а также средние значения (macro avg и weighted avg)\n",
        "print(classification_report(test_y, y_pred, target_names=target_names))"
      ]
    },
    {
      "cell_type": "markdown",
      "metadata": {},
      "source": [
        "## Интерпретация:\n",
        "\n",
        "- `support`: Число примеров каждого класса в тестовом наборе.\n",
        "\n",
        "- `precision` **для 'WALKING UPSTAIRS' = 0.88**: Из всех случаев, когда модель сказала 'движение вверх', в 88% случаев она была права.\n",
        "\n",
        "- `recall` **для 'WALKING UPSTAIRS' = 0.89**: Из всех реальных случаев 'движения вверх' модель правильно нашла 89%.\n",
        "\n",
        "- `f1-score`: Гармоническое среднее между precision и recall. \n",
        "\n",
        "- `accuracy`: Общая точность – 92% из всех предсказаний были верны.\n",
        "\n",
        "- `macro avg` **(Макро-усреднение)**: Простое арифметическое среднее. Все классы имеют равный вес, независимо от того, сколько в них примеров (их support).\n",
        "\n",
        "- `weighted avg` **(Взвешенное усреднение)**:  Среднее значение, взвешенное по количеству примеров (support) в каждом классе. Классы с большим количеством примеров влияют на итоговый результат сильнее."
      ]
    }
  ],
  "metadata": {
    "colab": {
      "provenance": [],
      "toc_visible": true
    },
    "datalore": {
      "computation_mode": "JUPYTER",
      "packages": [],
      "report_row_ids": [],
      "version": 3
    },
    "kernelspec": {
      "display_name": "Python 3",
      "name": "python3"
    },
    "language_info": {
      "codemirror_mode": {
        "name": "ipython",
        "version": 3
      },
      "file_extension": ".py",
      "mimetype": "text/x-python",
      "name": "python",
      "nbconvert_exporter": "python",
      "pygments_lexer": "ipython3",
      "version": "3.12.0"
    }
  },
  "nbformat": 4,
  "nbformat_minor": 0
}

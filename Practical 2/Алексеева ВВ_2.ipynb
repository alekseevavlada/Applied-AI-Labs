{
 "cells": [
  {
   "cell_type": "markdown",
   "metadata": {},
   "source": [
    "# Практическое задание № 2. Нейронные сети\n"
   ]
  },
  {
   "cell_type": "markdown",
   "metadata": {},
   "source": [
    "**Работу выполнил (а):**\n",
    "\n",
    "Алексеева Влада, ИТМО ID 367801"
   ]
  },
  {
   "attachments": {},
   "cell_type": "markdown",
   "metadata": {
    "datalore": {
     "hide_input_from_viewers": true,
     "hide_output_from_viewers": true,
     "node_id": "CFxNZVf0hbNxeCop4nIN2T",
     "type": "MD"
    }
   },
   "source": [
    "## Прогнозирование цены на жилье с помощью нейросетевой регрессионной модели\n",
    "\n",
    "Необходимо по имеющимся данным о ценах на жильё предсказать окончательную цену каждого дома с учетом характеристик домов с использованием нейронной сети. Описание набора данных  содержит 80 классов (набор переменных) классификации оценки типа жилья, и находится в файле `data_description.txt`.\n",
    "\n",
    "В работе требуется дополнить раздел «Моделирование» в подразделе «Построение и обучение модели» создать и инициализировать последовательную модель нейронной сети с помощью фрэймворков тренировки нейронных сетей как: Torch или Tensorflow. Скомпилировать нейронную сеть выбрав функцию потерь и оптимизатор соответственно. Оценить точность полученных результатов. Вывести предсказанные данные о продаже. \n",
    "\n",
    "\n",
    "### Импорт библиотек\n",
    "Импортируем необходимые библиотеки:"
   ]
  },
  {
   "cell_type": "code",
   "execution_count": 163,
   "metadata": {
    "datalore": {
     "hide_input_from_viewers": true,
     "hide_output_from_viewers": true,
     "node_id": "BuwU26gdC1ZUAFRZo5cgMp",
     "type": "CODE"
    }
   },
   "outputs": [],
   "source": [
    "import numpy as np\n",
    "import pandas as pd\n",
    "import matplotlib.pyplot as plt\n",
    "from sklearn.model_selection import train_test_split"
   ]
  },
  {
   "attachments": {},
   "cell_type": "markdown",
   "metadata": {
    "datalore": {
     "hide_input_from_viewers": true,
     "hide_output_from_viewers": true,
     "node_id": "yDvlZr4HAkGEmZYhi0oxLW",
     "type": "MD"
    }
   },
   "source": [
    "### Считываем набор данных\n",
    "\n",
    "\n",
    "Загрузим набор данных и присвоим следующими переменные:\n",
    "\n",
    "* `train_data`: данные, используемые для обучения модели\n",
    "* `test_data`: данные, используемые для проверки модели"
   ]
  },
  {
   "cell_type": "code",
   "execution_count": 164,
   "metadata": {
    "datalore": {
     "hide_input_from_viewers": true,
     "hide_output_from_viewers": true,
     "node_id": "cv3SeTOL5K6waszFLFVrHV",
     "type": "CODE"
    }
   },
   "outputs": [],
   "source": [
    "train_data = pd.read_csv('train.csv')  # Содержит 80 признаков + целевую переменную SalePrice\n",
    "test_data = pd.read_csv('test.csv')  # Содержит 80 признаков без SalePrice (его нужно предсказать)"
   ]
  },
  {
   "attachments": {},
   "cell_type": "markdown",
   "metadata": {
    "datalore": {
     "hide_input_from_viewers": true,
     "hide_output_from_viewers": true,
     "node_id": "OkRocMZR6KzqkfMDYArdLj",
     "type": "MD"
    }
   },
   "source": [
    "## Подготовка данных\n",
    "### Отобразим обучающие и проверочные данные:"
   ]
  },
  {
   "cell_type": "code",
   "execution_count": 165,
   "metadata": {
    "datalore": {
     "hide_input_from_viewers": true,
     "hide_output_from_viewers": true,
     "node_id": "FeQpLhWFiCUvkwKTZJGt77",
     "type": "CODE"
    }
   },
   "outputs": [
    {
     "data": {
      "text/html": [
       "<div>\n",
       "<style scoped>\n",
       "    .dataframe tbody tr th:only-of-type {\n",
       "        vertical-align: middle;\n",
       "    }\n",
       "\n",
       "    .dataframe tbody tr th {\n",
       "        vertical-align: top;\n",
       "    }\n",
       "\n",
       "    .dataframe thead th {\n",
       "        text-align: right;\n",
       "    }\n",
       "</style>\n",
       "<table border=\"1\" class=\"dataframe\">\n",
       "  <thead>\n",
       "    <tr style=\"text-align: right;\">\n",
       "      <th></th>\n",
       "      <th>Id</th>\n",
       "      <th>MSSubClass</th>\n",
       "      <th>MSZoning</th>\n",
       "      <th>LotFrontage</th>\n",
       "      <th>LotArea</th>\n",
       "      <th>Street</th>\n",
       "      <th>Alley</th>\n",
       "      <th>LotShape</th>\n",
       "      <th>LandContour</th>\n",
       "      <th>Utilities</th>\n",
       "      <th>...</th>\n",
       "      <th>PoolArea</th>\n",
       "      <th>PoolQC</th>\n",
       "      <th>Fence</th>\n",
       "      <th>MiscFeature</th>\n",
       "      <th>MiscVal</th>\n",
       "      <th>MoSold</th>\n",
       "      <th>YrSold</th>\n",
       "      <th>SaleType</th>\n",
       "      <th>SaleCondition</th>\n",
       "      <th>SalePrice</th>\n",
       "    </tr>\n",
       "  </thead>\n",
       "  <tbody>\n",
       "    <tr>\n",
       "      <th>0</th>\n",
       "      <td>1</td>\n",
       "      <td>60</td>\n",
       "      <td>RL</td>\n",
       "      <td>65.0</td>\n",
       "      <td>8450</td>\n",
       "      <td>Pave</td>\n",
       "      <td>NaN</td>\n",
       "      <td>Reg</td>\n",
       "      <td>Lvl</td>\n",
       "      <td>AllPub</td>\n",
       "      <td>...</td>\n",
       "      <td>0</td>\n",
       "      <td>NaN</td>\n",
       "      <td>NaN</td>\n",
       "      <td>NaN</td>\n",
       "      <td>0</td>\n",
       "      <td>2</td>\n",
       "      <td>2008</td>\n",
       "      <td>WD</td>\n",
       "      <td>Normal</td>\n",
       "      <td>208500</td>\n",
       "    </tr>\n",
       "    <tr>\n",
       "      <th>1</th>\n",
       "      <td>2</td>\n",
       "      <td>20</td>\n",
       "      <td>RL</td>\n",
       "      <td>80.0</td>\n",
       "      <td>9600</td>\n",
       "      <td>Pave</td>\n",
       "      <td>NaN</td>\n",
       "      <td>Reg</td>\n",
       "      <td>Lvl</td>\n",
       "      <td>AllPub</td>\n",
       "      <td>...</td>\n",
       "      <td>0</td>\n",
       "      <td>NaN</td>\n",
       "      <td>NaN</td>\n",
       "      <td>NaN</td>\n",
       "      <td>0</td>\n",
       "      <td>5</td>\n",
       "      <td>2007</td>\n",
       "      <td>WD</td>\n",
       "      <td>Normal</td>\n",
       "      <td>181500</td>\n",
       "    </tr>\n",
       "    <tr>\n",
       "      <th>2</th>\n",
       "      <td>3</td>\n",
       "      <td>60</td>\n",
       "      <td>RL</td>\n",
       "      <td>68.0</td>\n",
       "      <td>11250</td>\n",
       "      <td>Pave</td>\n",
       "      <td>NaN</td>\n",
       "      <td>IR1</td>\n",
       "      <td>Lvl</td>\n",
       "      <td>AllPub</td>\n",
       "      <td>...</td>\n",
       "      <td>0</td>\n",
       "      <td>NaN</td>\n",
       "      <td>NaN</td>\n",
       "      <td>NaN</td>\n",
       "      <td>0</td>\n",
       "      <td>9</td>\n",
       "      <td>2008</td>\n",
       "      <td>WD</td>\n",
       "      <td>Normal</td>\n",
       "      <td>223500</td>\n",
       "    </tr>\n",
       "    <tr>\n",
       "      <th>3</th>\n",
       "      <td>4</td>\n",
       "      <td>70</td>\n",
       "      <td>RL</td>\n",
       "      <td>60.0</td>\n",
       "      <td>9550</td>\n",
       "      <td>Pave</td>\n",
       "      <td>NaN</td>\n",
       "      <td>IR1</td>\n",
       "      <td>Lvl</td>\n",
       "      <td>AllPub</td>\n",
       "      <td>...</td>\n",
       "      <td>0</td>\n",
       "      <td>NaN</td>\n",
       "      <td>NaN</td>\n",
       "      <td>NaN</td>\n",
       "      <td>0</td>\n",
       "      <td>2</td>\n",
       "      <td>2006</td>\n",
       "      <td>WD</td>\n",
       "      <td>Abnorml</td>\n",
       "      <td>140000</td>\n",
       "    </tr>\n",
       "    <tr>\n",
       "      <th>4</th>\n",
       "      <td>5</td>\n",
       "      <td>60</td>\n",
       "      <td>RL</td>\n",
       "      <td>84.0</td>\n",
       "      <td>14260</td>\n",
       "      <td>Pave</td>\n",
       "      <td>NaN</td>\n",
       "      <td>IR1</td>\n",
       "      <td>Lvl</td>\n",
       "      <td>AllPub</td>\n",
       "      <td>...</td>\n",
       "      <td>0</td>\n",
       "      <td>NaN</td>\n",
       "      <td>NaN</td>\n",
       "      <td>NaN</td>\n",
       "      <td>0</td>\n",
       "      <td>12</td>\n",
       "      <td>2008</td>\n",
       "      <td>WD</td>\n",
       "      <td>Normal</td>\n",
       "      <td>250000</td>\n",
       "    </tr>\n",
       "  </tbody>\n",
       "</table>\n",
       "<p>5 rows × 81 columns</p>\n",
       "</div>"
      ],
      "text/plain": [
       "   Id  MSSubClass MSZoning  LotFrontage  LotArea Street Alley LotShape  \\\n",
       "0   1          60       RL         65.0     8450   Pave   NaN      Reg   \n",
       "1   2          20       RL         80.0     9600   Pave   NaN      Reg   \n",
       "2   3          60       RL         68.0    11250   Pave   NaN      IR1   \n",
       "3   4          70       RL         60.0     9550   Pave   NaN      IR1   \n",
       "4   5          60       RL         84.0    14260   Pave   NaN      IR1   \n",
       "\n",
       "  LandContour Utilities  ... PoolArea PoolQC Fence MiscFeature MiscVal MoSold  \\\n",
       "0         Lvl    AllPub  ...        0    NaN   NaN         NaN       0      2   \n",
       "1         Lvl    AllPub  ...        0    NaN   NaN         NaN       0      5   \n",
       "2         Lvl    AllPub  ...        0    NaN   NaN         NaN       0      9   \n",
       "3         Lvl    AllPub  ...        0    NaN   NaN         NaN       0      2   \n",
       "4         Lvl    AllPub  ...        0    NaN   NaN         NaN       0     12   \n",
       "\n",
       "  YrSold  SaleType  SaleCondition  SalePrice  \n",
       "0   2008        WD         Normal     208500  \n",
       "1   2007        WD         Normal     181500  \n",
       "2   2008        WD         Normal     223500  \n",
       "3   2006        WD        Abnorml     140000  \n",
       "4   2008        WD         Normal     250000  \n",
       "\n",
       "[5 rows x 81 columns]"
      ]
     },
     "execution_count": 165,
     "metadata": {},
     "output_type": "execute_result"
    }
   ],
   "source": [
    "train_data.head()"
   ]
  },
  {
   "cell_type": "code",
   "execution_count": 166,
   "metadata": {
    "datalore": {
     "hide_input_from_viewers": true,
     "hide_output_from_viewers": true,
     "node_id": "PtlgCCQ1tenYmqz4uqrL0r",
     "type": "CODE"
    }
   },
   "outputs": [
    {
     "data": {
      "text/html": [
       "<div>\n",
       "<style scoped>\n",
       "    .dataframe tbody tr th:only-of-type {\n",
       "        vertical-align: middle;\n",
       "    }\n",
       "\n",
       "    .dataframe tbody tr th {\n",
       "        vertical-align: top;\n",
       "    }\n",
       "\n",
       "    .dataframe thead th {\n",
       "        text-align: right;\n",
       "    }\n",
       "</style>\n",
       "<table border=\"1\" class=\"dataframe\">\n",
       "  <thead>\n",
       "    <tr style=\"text-align: right;\">\n",
       "      <th></th>\n",
       "      <th>Id</th>\n",
       "      <th>MSSubClass</th>\n",
       "      <th>MSZoning</th>\n",
       "      <th>LotFrontage</th>\n",
       "      <th>LotArea</th>\n",
       "      <th>Street</th>\n",
       "      <th>Alley</th>\n",
       "      <th>LotShape</th>\n",
       "      <th>LandContour</th>\n",
       "      <th>Utilities</th>\n",
       "      <th>...</th>\n",
       "      <th>ScreenPorch</th>\n",
       "      <th>PoolArea</th>\n",
       "      <th>PoolQC</th>\n",
       "      <th>Fence</th>\n",
       "      <th>MiscFeature</th>\n",
       "      <th>MiscVal</th>\n",
       "      <th>MoSold</th>\n",
       "      <th>YrSold</th>\n",
       "      <th>SaleType</th>\n",
       "      <th>SaleCondition</th>\n",
       "    </tr>\n",
       "  </thead>\n",
       "  <tbody>\n",
       "    <tr>\n",
       "      <th>0</th>\n",
       "      <td>1461</td>\n",
       "      <td>20</td>\n",
       "      <td>RH</td>\n",
       "      <td>80.0</td>\n",
       "      <td>11622</td>\n",
       "      <td>Pave</td>\n",
       "      <td>NaN</td>\n",
       "      <td>Reg</td>\n",
       "      <td>Lvl</td>\n",
       "      <td>AllPub</td>\n",
       "      <td>...</td>\n",
       "      <td>120</td>\n",
       "      <td>0</td>\n",
       "      <td>NaN</td>\n",
       "      <td>MnPrv</td>\n",
       "      <td>NaN</td>\n",
       "      <td>0</td>\n",
       "      <td>6</td>\n",
       "      <td>2010</td>\n",
       "      <td>WD</td>\n",
       "      <td>Normal</td>\n",
       "    </tr>\n",
       "    <tr>\n",
       "      <th>1</th>\n",
       "      <td>1462</td>\n",
       "      <td>20</td>\n",
       "      <td>RL</td>\n",
       "      <td>81.0</td>\n",
       "      <td>14267</td>\n",
       "      <td>Pave</td>\n",
       "      <td>NaN</td>\n",
       "      <td>IR1</td>\n",
       "      <td>Lvl</td>\n",
       "      <td>AllPub</td>\n",
       "      <td>...</td>\n",
       "      <td>0</td>\n",
       "      <td>0</td>\n",
       "      <td>NaN</td>\n",
       "      <td>NaN</td>\n",
       "      <td>Gar2</td>\n",
       "      <td>12500</td>\n",
       "      <td>6</td>\n",
       "      <td>2010</td>\n",
       "      <td>WD</td>\n",
       "      <td>Normal</td>\n",
       "    </tr>\n",
       "    <tr>\n",
       "      <th>2</th>\n",
       "      <td>1463</td>\n",
       "      <td>60</td>\n",
       "      <td>RL</td>\n",
       "      <td>74.0</td>\n",
       "      <td>13830</td>\n",
       "      <td>Pave</td>\n",
       "      <td>NaN</td>\n",
       "      <td>IR1</td>\n",
       "      <td>Lvl</td>\n",
       "      <td>AllPub</td>\n",
       "      <td>...</td>\n",
       "      <td>0</td>\n",
       "      <td>0</td>\n",
       "      <td>NaN</td>\n",
       "      <td>MnPrv</td>\n",
       "      <td>NaN</td>\n",
       "      <td>0</td>\n",
       "      <td>3</td>\n",
       "      <td>2010</td>\n",
       "      <td>WD</td>\n",
       "      <td>Normal</td>\n",
       "    </tr>\n",
       "    <tr>\n",
       "      <th>3</th>\n",
       "      <td>1464</td>\n",
       "      <td>60</td>\n",
       "      <td>RL</td>\n",
       "      <td>78.0</td>\n",
       "      <td>9978</td>\n",
       "      <td>Pave</td>\n",
       "      <td>NaN</td>\n",
       "      <td>IR1</td>\n",
       "      <td>Lvl</td>\n",
       "      <td>AllPub</td>\n",
       "      <td>...</td>\n",
       "      <td>0</td>\n",
       "      <td>0</td>\n",
       "      <td>NaN</td>\n",
       "      <td>NaN</td>\n",
       "      <td>NaN</td>\n",
       "      <td>0</td>\n",
       "      <td>6</td>\n",
       "      <td>2010</td>\n",
       "      <td>WD</td>\n",
       "      <td>Normal</td>\n",
       "    </tr>\n",
       "    <tr>\n",
       "      <th>4</th>\n",
       "      <td>1465</td>\n",
       "      <td>120</td>\n",
       "      <td>RL</td>\n",
       "      <td>43.0</td>\n",
       "      <td>5005</td>\n",
       "      <td>Pave</td>\n",
       "      <td>NaN</td>\n",
       "      <td>IR1</td>\n",
       "      <td>HLS</td>\n",
       "      <td>AllPub</td>\n",
       "      <td>...</td>\n",
       "      <td>144</td>\n",
       "      <td>0</td>\n",
       "      <td>NaN</td>\n",
       "      <td>NaN</td>\n",
       "      <td>NaN</td>\n",
       "      <td>0</td>\n",
       "      <td>1</td>\n",
       "      <td>2010</td>\n",
       "      <td>WD</td>\n",
       "      <td>Normal</td>\n",
       "    </tr>\n",
       "  </tbody>\n",
       "</table>\n",
       "<p>5 rows × 80 columns</p>\n",
       "</div>"
      ],
      "text/plain": [
       "     Id  MSSubClass MSZoning  LotFrontage  LotArea Street Alley LotShape  \\\n",
       "0  1461          20       RH         80.0    11622   Pave   NaN      Reg   \n",
       "1  1462          20       RL         81.0    14267   Pave   NaN      IR1   \n",
       "2  1463          60       RL         74.0    13830   Pave   NaN      IR1   \n",
       "3  1464          60       RL         78.0     9978   Pave   NaN      IR1   \n",
       "4  1465         120       RL         43.0     5005   Pave   NaN      IR1   \n",
       "\n",
       "  LandContour Utilities  ... ScreenPorch PoolArea PoolQC  Fence MiscFeature  \\\n",
       "0         Lvl    AllPub  ...         120        0    NaN  MnPrv         NaN   \n",
       "1         Lvl    AllPub  ...           0        0    NaN    NaN        Gar2   \n",
       "2         Lvl    AllPub  ...           0        0    NaN  MnPrv         NaN   \n",
       "3         Lvl    AllPub  ...           0        0    NaN    NaN         NaN   \n",
       "4         HLS    AllPub  ...         144        0    NaN    NaN         NaN   \n",
       "\n",
       "  MiscVal MoSold  YrSold  SaleType  SaleCondition  \n",
       "0       0      6    2010        WD         Normal  \n",
       "1   12500      6    2010        WD         Normal  \n",
       "2       0      3    2010        WD         Normal  \n",
       "3       0      6    2010        WD         Normal  \n",
       "4       0      1    2010        WD         Normal  \n",
       "\n",
       "[5 rows x 80 columns]"
      ]
     },
     "execution_count": 166,
     "metadata": {},
     "output_type": "execute_result"
    }
   ],
   "source": [
    "test_data.head()"
   ]
  },
  {
   "attachments": {},
   "cell_type": "markdown",
   "metadata": {
    "datalore": {
     "hide_input_from_viewers": true,
     "hide_output_from_viewers": true,
     "node_id": "m2HZ1ayKDr8MOHpK2TtCFB",
     "type": "MD"
    }
   },
   "source": [
    "Как можно видеть, `train_data` имеет на один столбец больше, чем `test_data`, это столбец `SalePrice`, для обучения модели перед применением ее для предсказания меток в test_data."
   ]
  },
  {
   "attachments": {},
   "cell_type": "markdown",
   "metadata": {
    "datalore": {
     "hide_input_from_viewers": true,
     "hide_output_from_viewers": true,
     "node_id": "LvA8hUPBQzVxQWBqcatifj",
     "type": "MD"
    }
   },
   "source": [
    "### Проверяем нет ли тестовые данные пустых значений значений (Nan)\n",
    "\n",
    "Построим функцию `def missing_value_checker` для проверки и подсчёта пропущеных значений в test_data. А также выведем тип данных этих значений.\n"
   ]
  },
  {
   "cell_type": "code",
   "execution_count": 167,
   "metadata": {
    "datalore": {
     "hide_input_from_viewers": true,
     "hide_output_from_viewers": true,
     "node_id": "pxUQWKUmcS70sX8fsExVI9",
     "type": "CODE"
    }
   },
   "outputs": [
    {
     "name": "stdout",
     "output_type": "stream",
     "text": [
      "MSZoning: 4, type: object\n",
      "LotFrontage: 227, type: float64\n",
      "Alley: 1352, type: object\n",
      "Utilities: 2, type: object\n",
      "Exterior1st: 1, type: object\n",
      "Exterior2nd: 1, type: object\n",
      "MasVnrType: 894, type: object\n",
      "MasVnrArea: 15, type: float64\n",
      "BsmtQual: 44, type: object\n",
      "BsmtCond: 45, type: object\n",
      "BsmtExposure: 44, type: object\n",
      "BsmtFinType1: 42, type: object\n",
      "BsmtFinSF1: 1, type: float64\n",
      "BsmtFinType2: 42, type: object\n",
      "BsmtFinSF2: 1, type: float64\n",
      "BsmtUnfSF: 1, type: float64\n",
      "TotalBsmtSF: 1, type: float64\n",
      "BsmtFullBath: 2, type: float64\n",
      "BsmtHalfBath: 2, type: float64\n",
      "KitchenQual: 1, type: object\n",
      "Functional: 2, type: object\n",
      "FireplaceQu: 730, type: object\n",
      "GarageType: 76, type: object\n",
      "GarageYrBlt: 78, type: float64\n",
      "GarageFinish: 78, type: object\n",
      "GarageCars: 1, type: float64\n",
      "GarageArea: 1, type: float64\n",
      "GarageQual: 78, type: object\n",
      "GarageCond: 78, type: object\n",
      "PoolQC: 1456, type: object\n",
      "Fence: 1169, type: object\n",
      "MiscFeature: 1408, type: object\n",
      "SaleType: 1, type: object\n",
      "['MSZoning', 'LotFrontage', 'Alley', 'Utilities', 'Exterior1st', 'Exterior2nd', 'MasVnrType', 'MasVnrArea', 'BsmtQual', 'BsmtCond', 'BsmtExposure', 'BsmtFinType1', 'BsmtFinSF1', 'BsmtFinType2', 'BsmtFinSF2', 'BsmtUnfSF', 'TotalBsmtSF', 'BsmtFullBath', 'BsmtHalfBath', 'KitchenQual', 'Functional', 'FireplaceQu', 'GarageType', 'GarageYrBlt', 'GarageFinish', 'GarageCars', 'GarageArea', 'GarageQual', 'GarageCond', 'PoolQC', 'Fence', 'MiscFeature', 'SaleType']\n",
      "33\n"
     ]
    }
   ],
   "source": [
    "# Проходит по каждому столбцу (feature) в датафрейме \n",
    "def missing_value_checker(data):\n",
    "    list = []\n",
    "    for feature, content in data.items():\n",
    "        if data[feature].isnull().values.any():\n",
    "            \n",
    "            sum = data[feature].isna().sum()\n",
    "\n",
    "            type = data[feature].dtype\n",
    "\n",
    "            print (f'{feature}: {sum}, type: {type}')\n",
    "            \n",
    "            list.append(feature)\n",
    "    print(list)\n",
    "\n",
    "    print(len(list))\n",
    "\n",
    "# Если есть NaN (isnull().any()), выводит \n",
    "# Название признака \n",
    "# Количество пропущенных значений \n",
    "# Тип данных (int, float, object и т.д.)\n",
    "missing_value_checker(test_data)"
   ]
  },
  {
   "cell_type": "markdown",
   "metadata": {},
   "source": [
    "Проверяем какие признаки в таблице можно оставить, а какие удалить. Если пропущенных значений слишком много, то удалим признак. \n",
    "\n",
    "В соответствии с этим:\n",
    "\n",
    "– удалим ['Alley', 'FireplaceQu', 'PoolQC', 'Fence', 'MiscFeature']."
   ]
  },
  {
   "cell_type": "code",
   "execution_count": 168,
   "metadata": {
    "datalore": {
     "hide_input_from_viewers": true,
     "hide_output_from_viewers": true,
     "node_id": "2KCsgKLRNIzdZGdZDJavSo",
     "type": "CODE"
    }
   },
   "outputs": [],
   "source": [
    "from sklearn.preprocessing import StandardScaler\n",
    "\n",
    "# Если у большинства домов нет бассейна или аллеи, то признак неинформативен\n",
    "test_edited = test_data.drop(['Alley','FireplaceQu','PoolQC', 'Fence', 'MiscFeature'], axis=1)\n",
    "train_edited = train_data.drop(['Alley','FireplaceQu','PoolQC', 'Fence', 'MiscFeature'], axis=1)"
   ]
  },
  {
   "attachments": {},
   "cell_type": "markdown",
   "metadata": {
    "datalore": {
     "hide_input_from_viewers": true,
     "hide_output_from_viewers": true,
     "node_id": "sctXpXpVAyHpq6e2u72Jit",
     "type": "MD"
    }
   },
   "source": [
    "### Разделим данные\n",
    "\n",
    "Поскольку мы не знаем метку (Цена) тестовых данных, для оценки модели, чтобы получить лучшую модель перед прогнозированием тестовых данных, разделим данные в файле train.scv на обучающие и проверочные данные, соотношение составляет 20%."
   ]
  },
  {
   "cell_type": "code",
   "execution_count": 169,
   "metadata": {
    "datalore": {
     "hide_input_from_viewers": true,
     "hide_output_from_viewers": true,
     "node_id": "t8LurcYSC79LJFUQFBR6IP",
     "type": "CODE"
    }
   },
   "outputs": [],
   "source": [
    "import torch\n",
    "torch._dynamo.config.suppress_errors = True\n",
    "\n",
    "X = train_edited.drop(columns=['SalePrice', 'Id']) # Все признаки (80 столбцов), кроме SalePrice\n",
    "y = train_edited['SalePrice']  # Целевая переменная (цена дома)\n",
    "X_test = test_edited.drop(columns=['Id']) # Удаляем Id из признаков\n",
    "\n",
    "# Разделение данных: \n",
    "# 80% – обучающая выборка (X_train, y_train) \n",
    "# 20% – валидационная выборка (X_val, y_val) для оценки качества модели до применения к test.csv\n",
    "X_train, X_val, y_train, y_val = train_test_split(X, y, test_size=0.2, random_state=42)"
   ]
  },
  {
   "cell_type": "markdown",
   "metadata": {},
   "source": [
    "Если признаков небольшое количество, то заполним `mean` или `median` для чисел, новая категория `missing` для строковых объектов.\n",
    "\n",
    "В соответствии с этим:\n",
    "\n",
    "– заполним числовое отсутствующее значение значением `mean`;\n",
    "\n",
    "– заполним строковое отсутствующее значение значением `missing`."
   ]
  },
  {
   "cell_type": "code",
   "execution_count": 170,
   "metadata": {},
   "outputs": [],
   "source": [
    "# Определим числовые и категориальные колонки\n",
    "numeric_features = X_train.select_dtypes(include=[np.number]).columns.tolist()\n",
    "categorical_features = X_train.select_dtypes(exclude=[np.number]).columns.tolist()\n",
    "\n",
    "X_train = X_train.copy()\n",
    "X_val = X_val.copy()\n",
    "X_test = X_test.copy()\n",
    "    \n",
    "# Заполнение NaN числовых признаков медианой\n",
    "for col in numeric_features:\n",
    "    median_val = X_train[col].median()\n",
    "    X_train[col] = X_train[col].fillna(median_val)\n",
    "    X_val[col] = X_val[col].fillna(median_val)\n",
    "    X_test[col] = X_test[col].fillna(median_val)\n",
    "    \n",
    "# Кодирование категорий\n",
    "category_mappings = {}\n",
    "for col in categorical_features:\n",
    "    # Заменяем NaN \n",
    "    X_train[col] = X_train[col].fillna('Missing')\n",
    "    X_val[col] = X_val[col].fillna('Missing')\n",
    "    X_test[col] = X_test[col].fillna('Missing')\n",
    "    \n",
    "    # Теперь кодируем\n",
    "    X_train[col] = X_train[col].astype('category').cat.as_ordered()\n",
    "    categories = X_train[col].cat.categories\n",
    "    \n",
    "    # Преобразуем train\n",
    "    X_train[col] = X_train[col].cat.codes + 1  # Добавляет +1, чтобы избежать -1 (который pandas присваивает NaN)\n",
    "    \n",
    "    # Преобразуем val и test с теми же категориями\n",
    "    X_val[col] = pd.Categorical(X_val[col], categories=categories).codes + 1\n",
    "    X_test[col] = pd.Categorical(X_test[col], categories=categories).codes + 1 \n",
    "\n",
    "# Нормализация числовых признаков\n",
    "scaler = StandardScaler()\n",
    "X_train[numeric_features] = scaler.fit_transform(X_train[numeric_features])\n",
    "X_val[numeric_features] = scaler.transform(X_val[numeric_features])\n",
    "X_test[numeric_features] = scaler.transform(X_test[numeric_features])"
   ]
  },
  {
   "cell_type": "code",
   "execution_count": 171,
   "metadata": {},
   "outputs": [],
   "source": [
    "# Конвертирует pandas.DataFrame – numpy.ndarray – torch.Tensor \n",
    "# .float() — приводит к типу float32, который требуется для обучения нейросети\n",
    "X_train_tensor = torch.from_numpy(X_train.values).float()\n",
    "X_val_tensor = torch.from_numpy(X_val.values).float()\n",
    "y_train_tensor = torch.from_numpy(y_train.values).float()\n",
    "y_val_tensor = torch.from_numpy(y_val.values).float()\n",
    "\n",
    "X_test_tensor = torch.from_numpy(X_test.values).float()"
   ]
  },
  {
   "attachments": {},
   "cell_type": "markdown",
   "metadata": {
    "datalore": {
     "hide_input_from_viewers": true,
     "hide_output_from_viewers": true,
     "node_id": "at2x2hjP7J2ggCGjl4bDdp",
     "type": "MD"
    }
   },
   "source": [
    "### Перепроверим наши данные:"
   ]
  },
  {
   "cell_type": "code",
   "execution_count": 172,
   "metadata": {},
   "outputs": [
    {
     "data": {
      "text/plain": [
       "torch.Size([1459, 74])"
      ]
     },
     "execution_count": 172,
     "metadata": {},
     "output_type": "execute_result"
    }
   ],
   "source": [
    "X_test_tensor.shape"
   ]
  },
  {
   "cell_type": "code",
   "execution_count": 173,
   "metadata": {
    "datalore": {
     "hide_input_from_viewers": true,
     "hide_output_from_viewers": true,
     "node_id": "i93j4GwqcU1GyQ4VPlqVfO",
     "type": "CODE"
    }
   },
   "outputs": [
    {
     "data": {
      "text/plain": [
       "(torch.Size([1168, 74]), torch.Size([1459, 74]))"
      ]
     },
     "execution_count": 173,
     "metadata": {},
     "output_type": "execute_result"
    }
   ],
   "source": [
    "X_train_tensor.shape, X_test_tensor.shape"
   ]
  },
  {
   "cell_type": "code",
   "execution_count": 174,
   "metadata": {},
   "outputs": [
    {
     "data": {
      "text/plain": [
       "(torch.Size([1168, 74]), torch.Size([292, 74]))"
      ]
     },
     "execution_count": 174,
     "metadata": {},
     "output_type": "execute_result"
    }
   ],
   "source": [
    "X_train_tensor.shape, X_val_tensor.shape"
   ]
  },
  {
   "cell_type": "code",
   "execution_count": 175,
   "metadata": {},
   "outputs": [
    {
     "name": "stdout",
     "output_type": "stream",
     "text": [
      "SalePrice min: 34900\n",
      "SalePrice max: 745000\n"
     ]
    }
   ],
   "source": [
    "print('SalePrice min:', y_train.min())  \n",
    "print('SalePrice max:', y_train.max())  "
   ]
  },
  {
   "cell_type": "code",
   "execution_count": 176,
   "metadata": {},
   "outputs": [
    {
     "name": "stdout",
     "output_type": "stream",
     "text": [
      "Mean SalePrice: 180921.19589041095\n"
     ]
    }
   ],
   "source": [
    "print('Mean SalePrice:', train_data['SalePrice'].mean()) "
   ]
  },
  {
   "cell_type": "code",
   "execution_count": 177,
   "metadata": {},
   "outputs": [
    {
     "name": "stdout",
     "output_type": "stream",
     "text": [
      "Среднее LotArea после нормализации: 2.281280187585938e-17\n",
      "Std LotArea после нормализации: 1.000428357269592\n"
     ]
    }
   ],
   "source": [
    "print('Среднее LotArea после нормализации:', X_train['LotArea'].mean())  \n",
    "print('Std LotArea после нормализации:', X_train['LotArea'].std())      "
   ]
  },
  {
   "cell_type": "code",
   "execution_count": 178,
   "metadata": {},
   "outputs": [],
   "source": [
    "# Используем все признаки (75 шт.)\n",
    "z = X_train_tensor.shape[1]"
   ]
  },
  {
   "cell_type": "code",
   "execution_count": 179,
   "metadata": {},
   "outputs": [],
   "source": [
    "from torch.utils.data import DataLoader, TensorDataset\n",
    "\n",
    "# Объединение признаков и меток в один объект\n",
    "XY_train = TensorDataset(X_train_tensor, y_train_tensor) \n",
    "XY_val = TensorDataset(X_val_tensor, y_val_tensor)\n",
    "\n",
    "# Загрузка данных пакетами (batches) \n",
    "# batch_size=64 – по 64 примера за раз \n",
    "train_loader = DataLoader(XY_train, batch_size=64, shuffle=True)  # shuffle=True – перемешивает обучающие данные для лучшей обобщающей способности \n",
    "val_loader = DataLoader(XY_val, batch_size=64, shuffle=False)  # shuffle=False – валидация без перемешивания\n",
    "test_dataset = TensorDataset(X_test_tensor)\n",
    "test_loader = DataLoader(test_dataset, batch_size=64, shuffle=False)"
   ]
  },
  {
   "attachments": {},
   "cell_type": "markdown",
   "metadata": {
    "datalore": {
     "hide_input_from_viewers": true,
     "hide_output_from_viewers": true,
     "node_id": "rwifuS2QgPW48EMtsBXdFH",
     "type": "MD"
    }
   },
   "source": [
    "## Моделирование"
   ]
  },
  {
   "attachments": {},
   "cell_type": "markdown",
   "metadata": {
    "datalore": {
     "hide_input_from_viewers": true,
     "hide_output_from_viewers": true,
     "node_id": "ZV0KjiWMU6QB7jLp3j5yc8",
     "type": "MD"
    }
   },
   "source": [
    "### Построение и обучение модели"
   ]
  },
  {
   "attachments": {},
   "cell_type": "markdown",
   "metadata": {
    "datalore": {
     "hide_input_from_viewers": true,
     "hide_output_from_viewers": true,
     "node_id": "G277rUWTnvZaphr9V2bwEz",
     "type": "MD"
    }
   },
   "source": [
    "\n",
    "Создайте последовательную модель нейронной сети с помощью фрэймворков тренировки нейронных сетей как: Torch или Tensorflow. "
   ]
  },
  {
   "cell_type": "code",
   "execution_count": 180,
   "metadata": {},
   "outputs": [
    {
     "name": "stdout",
     "output_type": "stream",
     "text": [
      "Using cpu device\n"
     ]
    }
   ],
   "source": [
    "# Автоматически выбирает GPU, если доступен (ускоряет обучение), иначе – CPU\n",
    "device = torch.device('cuda' if torch.cuda.is_available() else 'cpu')\n",
    "print(f'Using {device} device')"
   ]
  },
  {
   "cell_type": "code",
   "execution_count": 181,
   "metadata": {},
   "outputs": [],
   "source": [
    "import torch.nn as nn\n",
    "\n",
    "class NeuralNetwork(nn.Module):  # nn.Module – базовый класс для всех нейросетей в PyTorch\n",
    "    def __init__(self, input_size, hidden1, hidden2=None):\n",
    "        super().__init__()\n",
    "        # Архитектура сети: \n",
    "        # Вход: 74 признака\n",
    "        layers = [\n",
    "            nn.Linear(input_size, hidden1),  # Слой 1: input_size – hidden1 нейронов\n",
    "            nn.ReLU(),\n",
    "            nn.Dropout(0.2)\n",
    "        ]\n",
    "        if hidden2 is not None:\n",
    "            layers += [\n",
    "                nn.Linear(hidden1, hidden2),  # Слой 2: hidden1 – hidden2 нейронов\n",
    "                nn.ReLU(),\n",
    "                nn.Dropout(0.2),\n",
    "                nn.Linear(hidden2, 1)\n",
    "            ]\n",
    "        else:\n",
    "            layers.append(nn.Linear(hidden1, 1))  # Выход: hidden1 – 1 нейрон\n",
    "        self.net = nn.Sequential(*layers)\n",
    "\n",
    "    # Определяет, как данные проходят через сеть\n",
    "    def forward(self, x):\n",
    "        return self.net(x).squeeze(-1)  # squeeze(-1) убирает лишнее измерение, чтобы выход был [batch], а не [batch, 1]"
   ]
  },
  {
   "cell_type": "markdown",
   "metadata": {},
   "source": [
    "\n",
    "**1. Как параметры влияют на результат?**\n",
    "\n",
    "**Параметры** (гиперпараметры модели и архитектуры) напрямую влияют на **качество предсказаний**, **скорость обучения** и способность модели обобщать (**избегать переобучения или недообучения**).\n",
    "\n",
    "- `nn.Linear(z, 45)` **(Число нейронов)**: Если слишком мало, то модель не способна уловить сложные зависимости (**недообучение**). Если слишком много, то модель запоминает шум в данных (**переобучение**), особенно при малом объёме данных.\n",
    "\n",
    "- **Число скрытых слоёв**: Более глубокие сети могут моделировать **более сложные функции**, но требуют **больше данных** и **регуляризации**. Для задачи типа House Prices часто достаточно 1–2 скрытых слоёв.\n",
    "\n",
    "- `num_epochs` **(Число эпох)**: Если мало эпох, то идет **недообучение**. Если много, то **переобучение** (валидационная ошибка растёт). Оптимальное число часто определяется через раннюю остановку (`EarlyStopping`).\n",
    "\n",
    "- `batch_size` **(Размер мини-выборки)**: Если маленький размер `batch`, то более **шумные**, но частые обновления весов. Когда `batch` большой, то стабильнее градиент, но модель может застрять в **плохом минимуме**.\n",
    "\n",
    "- `optimizer` **(Оптимизатор)**: **Adam** адаптирует скорость обучения и обычно **быстрее сходится**, чем **SGD**. Часто лучше работает без тонкой настройки `lr`. Выбор влияет на скорость сходимости и итоговую точность.\n",
    "\n",
    "- `lr` **(Скорость обучения)**: Если слишком высокий `lr` (например, 0.1), то модель перескакивает минимумы (**расходится**), ошибка растёт. Слишком низкий `lr`.(например, 0.00001) дает очень **медленное обучение**, модель может застрять в плохом минимуме.\n",
    "\n",
    "- **ReLU**$(x)=max(0, x)$ **(Функция активации)**: Это математическая функция, применяемая к выходу нейрона (или слоя) в нейронной сети, чтобы ввести **нелинейность** в модель. Она позволяет нейронной сети выходить **за рамки линейной регрессии** и эффективно моделировать сложные, реалистичные зависимости между характеристиками дома и его ценой.\n",
    "\n",
    "- `nn.MSELoss()` / `nn.L1Loss()` **(Mean Squared/Absolute Error)**: **MSE** штрафует сильные ошибки очень сильно (квадрат). Чувствителен к выбросам (например, редкие особняки за $700k среди домов за $150k). Часто даёт меньшую среднюю ошибку, если данные чистые. У **MAE** (`nn.L1Loss()`) штраф пропорционален абсолютной ошибке (ошибка в 100k, значит штраф = 100k). Устойчив к выбросам. Интерпретируем: MAE = средняя ошибка в долларах."
   ]
  },
  {
   "cell_type": "markdown",
   "metadata": {},
   "source": [
    "**2. Что такое эпоха (Epoch)? В чем отличие от итерации (Iteration)?**\n",
    "\n",
    "- `epoch` **(Эпоха)**: Один полный **проход всей обучающей выборки** через нейросеть (т.е. все данные были использованы для обновления весов хотя бы один раз).\n",
    "\n",
    "- `iteration` **(Итерация)**: Один **шаг обновления весов** модели, соответствующий обучению на одном батче (`batch`) данных."
   ]
  },
  {
   "cell_type": "code",
   "execution_count": 182,
   "metadata": {},
   "outputs": [
    {
     "name": "stdout",
     "output_type": "stream",
     "text": [
      "NeuralNetwork(\n",
      "  (net): Sequential(\n",
      "    (0): Linear(in_features=74, out_features=64, bias=True)\n",
      "    (1): ReLU()\n",
      "    (2): Dropout(p=0.2, inplace=False)\n",
      "    (3): Linear(in_features=64, out_features=1, bias=True)\n",
      "  )\n",
      ")\n"
     ]
    }
   ],
   "source": [
    "# Модель 1 переносится на выбранное устройство (CPU/GPU)\n",
    "model1 = NeuralNetwork(z, hidden1=64, hidden2=None).to(device) \n",
    "print(model1)"
   ]
  },
  {
   "cell_type": "code",
   "execution_count": 183,
   "metadata": {},
   "outputs": [
    {
     "name": "stdout",
     "output_type": "stream",
     "text": [
      "NeuralNetwork(\n",
      "  (net): Sequential(\n",
      "    (0): Linear(in_features=74, out_features=128, bias=True)\n",
      "    (1): ReLU()\n",
      "    (2): Dropout(p=0.2, inplace=False)\n",
      "    (3): Linear(in_features=128, out_features=64, bias=True)\n",
      "    (4): ReLU()\n",
      "    (5): Dropout(p=0.2, inplace=False)\n",
      "    (6): Linear(in_features=64, out_features=1, bias=True)\n",
      "  )\n",
      ")\n"
     ]
    }
   ],
   "source": [
    "# Модель 2 (изменение числа нейронов и слоев)\n",
    "model2 = NeuralNetwork(z, hidden1=128, hidden2=64).to(device) \n",
    "print(model2)"
   ]
  },
  {
   "cell_type": "code",
   "execution_count": 184,
   "metadata": {},
   "outputs": [
    {
     "name": "stdout",
     "output_type": "stream",
     "text": [
      "NeuralNetwork(\n",
      "  (net): Sequential(\n",
      "    (0): Linear(in_features=74, out_features=256, bias=True)\n",
      "    (1): ReLU()\n",
      "    (2): Dropout(p=0.2, inplace=False)\n",
      "    (3): Linear(in_features=256, out_features=128, bias=True)\n",
      "    (4): ReLU()\n",
      "    (5): Dropout(p=0.2, inplace=False)\n",
      "    (6): Linear(in_features=128, out_features=1, bias=True)\n",
      "  )\n",
      ")\n"
     ]
    }
   ],
   "source": [
    "# Модель 3 (изменение числа нейронов и слоев)\n",
    "model3 = NeuralNetwork(z, hidden1=256, hidden2=128).to(device) \n",
    "print(model3)"
   ]
  },
  {
   "cell_type": "code",
   "execution_count": 185,
   "metadata": {},
   "outputs": [],
   "source": [
    "# Скорость обучения\n",
    "learning_rate1 = 0.005\n",
    "\n",
    "# Количество эпох (проходов по всем данным)\n",
    "num_epochs = 100"
   ]
  },
  {
   "cell_type": "code",
   "execution_count": 186,
   "metadata": {},
   "outputs": [
    {
     "data": {
      "text/plain": [
       "<torch._C.Generator at 0x131eb9450>"
      ]
     },
     "execution_count": 186,
     "metadata": {},
     "output_type": "execute_result"
    }
   ],
   "source": [
    "# Настройка воспроизводимости\n",
    "torch.manual_seed(42)"
   ]
  },
  {
   "cell_type": "code",
   "execution_count": 187,
   "metadata": {},
   "outputs": [],
   "source": [
    "criterion1 = nn.MSELoss()  # Mean Squared Error"
   ]
  },
  {
   "cell_type": "code",
   "execution_count": 188,
   "metadata": {},
   "outputs": [],
   "source": [
    "optimizer1 = torch.optim.Adam(model1.parameters(), lr=learning_rate1)  # Adam адаптивный оптимизатор, который автоматически регулирует скорость обучения для каждого параметра"
   ]
  },
  {
   "cell_type": "code",
   "execution_count": 189,
   "metadata": {},
   "outputs": [],
   "source": [
    "optimizer2 = torch.optim.Adam(model2.parameters(), lr=learning_rate1)"
   ]
  },
  {
   "cell_type": "code",
   "execution_count": 190,
   "metadata": {},
   "outputs": [],
   "source": [
    "optimizer3 = torch.optim.Adam(model3.parameters(), lr=learning_rate1)"
   ]
  },
  {
   "cell_type": "code",
   "execution_count": 191,
   "metadata": {},
   "outputs": [],
   "source": [
    "# Сброс параметров (весов и смещений) конкретного слоя нейронной сети \n",
    "def reset_weights(layer):  # Принимает один аргумент (layer), который представляет собой один слой нейросети \n",
    "    if isinstance(layer, nn.Linear):  # isinstance(layer, nn.Linear) проверяет, является ли layer полносвязным (линейным) слоем \n",
    "        layer.reset_parameters()"
   ]
  },
  {
   "cell_type": "code",
   "execution_count": 192,
   "metadata": {},
   "outputs": [],
   "source": [
    "def train_loop(model, train_loader, val_loader, criterion, optimizer,\n",
    "               num_epochs=num_epochs, patience=15, verbose=True):\n",
    "    # Сохраняет историю потерь \n",
    "    train_losses, val_losses = [], []\n",
    "    best_val_loss = float('inf')\n",
    "    patience_counter = 0\n",
    "    best_state = None\n",
    "    \n",
    "    for epoch in range(num_epochs):\n",
    "        model.train()  # Режим обучения (включает dropout, batchnorm и т.д.)\n",
    "        total_train = 0.0\n",
    "\n",
    "        for X, y in train_loader:\n",
    "            X, y = X.to(device), y.to(device)\n",
    "\n",
    "            # Compute prediction and loss\n",
    "            pred = model(X)\n",
    "            loss = criterion(pred, y)\n",
    "            optimizer.zero_grad()  # Обнуление градиентов\n",
    "            loss.backward()        # Вычисление градиентоа\n",
    "            optimizer.step()       # Обновление весов\n",
    "            total_train += loss.item()\n",
    "\n",
    "        train_loss = total_train / len(train_loader)\n",
    "\n",
    "        # Валидация\n",
    "        model.eval()\n",
    "        total_val = 0.0\n",
    "        with torch.no_grad():\n",
    "            for X, y in val_loader:\n",
    "                X, y = X.to(device), y.to(device)\n",
    "                pred = model(X)\n",
    "                loss = criterion(pred, y)\n",
    "                total_val += loss.item()\n",
    "\n",
    "        val_loss = total_val / len(val_loader)\n",
    "\n",
    "        train_losses.append(train_loss)\n",
    "        val_losses.append(val_loss)\n",
    "\n",
    "        # Запускает обучение на num_epochs \n",
    "        if (epoch + 1) % 10 == 0:\n",
    "            print(f'  Epoch {epoch+1}/{num_epochs} | Train Loss: {train_loss:.4f} | Val Loss: {val_loss:.4f}')\n",
    "\n",
    "        # Early stopping\n",
    "        if val_loss < best_val_loss:\n",
    "            best_val_loss = val_loss\n",
    "            patience_counter = 0\n",
    "            best_state = model.state_dict()\n",
    "        else:\n",
    "            patience_counter += 1\n",
    "            if patience_counter >= patience:\n",
    "                if verbose:\n",
    "                    print(f'  Early stopping at epoch {epoch+1}')\n",
    "                break\n",
    "\n",
    "    model.load_state_dict(best_state)\n",
    "    return best_val_loss, train_losses, val_losses"
   ]
  },
  {
   "attachments": {},
   "cell_type": "markdown",
   "metadata": {
    "datalore": {
     "hide_input_from_viewers": true,
     "hide_output_from_viewers": true,
     "node_id": "LZFQS0AKCW5TXjLQTrI0OR",
     "type": "MD"
    }
   },
   "source": [
    "**Скомпилируйте нейронную сеть, выбрав функцию потерь и оптимизатор соответственно.**"
   ]
  },
  {
   "cell_type": "code",
   "execution_count": 193,
   "metadata": {},
   "outputs": [],
   "source": [
    "# model.compile() # Для оценки потерь и метрики рекомендую использовать метрики и функции потерь для регрессии"
   ]
  },
  {
   "cell_type": "markdown",
   "metadata": {},
   "source": [
    "Обучите модель на обучающих данных `X_train` и `y_train` задав гиперпараметры вашей модели нейронной сети, например количество эпох (`epochs`), размер мини-выборки (`batch_size`) и другие."
   ]
  },
  {
   "cell_type": "code",
   "execution_count": 194,
   "metadata": {},
   "outputs": [],
   "source": [
    "# Сбор результатов для последующего выбора лучшей модели\n",
    "results = {}"
   ]
  },
  {
   "cell_type": "code",
   "execution_count": 195,
   "metadata": {
    "datalore": {
     "hide_input_from_viewers": true,
     "hide_output_from_viewers": true,
     "node_id": "lMG4cd8mpOR6KHAh9Azgoo",
     "type": "CODE"
    }
   },
   "outputs": [
    {
     "name": "stdout",
     "output_type": "stream",
     "text": [
      "  Epoch 10/100 | Train Loss: 36544949948.6316 | Val Loss: 37130867916.8000\n",
      "  Epoch 20/100 | Train Loss: 28057647535.1579 | Val Loss: 28871648051.2000\n",
      "  Epoch 30/100 | Train Loss: 18328869564.6316 | Val Loss: 19079133184.0000\n",
      "  Epoch 40/100 | Train Loss: 10434553721.2632 | Val Loss: 11570203238.4000\n",
      "  Epoch 50/100 | Train Loss: 6320909534.3158 | Val Loss: 7676332339.2000\n",
      "  Epoch 60/100 | Train Loss: 5243528879.1579 | Val Loss: 6252806144.0000\n",
      "  Epoch 70/100 | Train Loss: 4856966440.4211 | Val Loss: 5702706995.2000\n",
      "  Epoch 80/100 | Train Loss: 4378105438.3158 | Val Loss: 5372907315.2000\n",
      "  Epoch 90/100 | Train Loss: 4326794792.4211 | Val Loss: 5087204147.2000\n",
      "  Epoch 100/100 | Train Loss: 3984920832.0000 | Val Loss: 4811281408.0000\n"
     ]
    }
   ],
   "source": [
    "# Обучение с MSELoss + Adam...\n",
    "val_loss, train_losses1, val_losses1 = train_loop(model1, train_loader, val_loader, criterion1, optimizer1) # optimizer1\n",
    "results['Losses 1: Adam + RMSE'] = {'model': model1, 'val_loss': np.sqrt(val_loss)}"
   ]
  },
  {
   "cell_type": "code",
   "execution_count": 196,
   "metadata": {},
   "outputs": [
    {
     "data": {
      "image/png": "[encoded data removed]",
      "text/plain": [
       "<Figure size 1000x500 with 1 Axes>"
      ]
     },
     "metadata": {},
     "output_type": "display_data"
    }
   ],
   "source": [
    "# График:\n",
    "# Показывает, снижается ли ошибка на обучающих и валидационных данных\n",
    "# Если Val Loss растёт, а Train Loss падает – переобучение\n",
    "plt.figure(figsize=(10, 5))\n",
    "plt.plot(train_losses1, label='Train Loss')\n",
    "plt.plot(val_losses1, label='Validation Loss')\n",
    "plt.title('Losses 1: Adam + MSE')\n",
    "plt.xlabel('Epoch')\n",
    "plt.ylabel('MSE Loss')\n",
    "plt.xticks(range(0, num_epochs, 5))\n",
    "plt.legend()\n",
    "plt.grid(True)\n",
    "\n",
    "plt.tight_layout()\n",
    "plt.show()"
   ]
  },
  {
   "cell_type": "code",
   "execution_count": 197,
   "metadata": {},
   "outputs": [
    {
     "name": "stdout",
     "output_type": "stream",
     "text": [
      "  Epoch 10/100 | Train Loss: 3965444864.0000 | Val Loss: 4682432102.4000\n",
      "  Epoch 20/100 | Train Loss: 2239824266.1053 | Val Loss: 2382741504.0000\n",
      "  Epoch 30/100 | Train Loss: 1901415902.3158 | Val Loss: 1792665971.2000\n",
      "  Epoch 40/100 | Train Loss: 1784577775.1579 | Val Loss: 1582290022.4000\n",
      "  Epoch 50/100 | Train Loss: 1707619152.8421 | Val Loss: 1454561510.4000\n",
      "  Epoch 60/100 | Train Loss: 1588867253.8947 | Val Loss: 1377482700.8000\n",
      "  Epoch 70/100 | Train Loss: 1524778371.3684 | Val Loss: 1322773145.6000\n",
      "  Epoch 80/100 | Train Loss: 1570716661.8947 | Val Loss: 1238975590.4000\n",
      "  Epoch 90/100 | Train Loss: 1503140035.3684 | Val Loss: 1162991833.6000\n",
      "  Epoch 100/100 | Train Loss: 1458931284.2105 | Val Loss: 1140425644.8000\n"
     ]
    }
   ],
   "source": [
    "# Обучение с MSELoss + Adam...\n",
    "val_loss, train_losses2, val_losses2 = train_loop(model2, train_loader, val_loader, criterion1, optimizer2)  # optimizer2\n",
    "results['Losses 2: Adam + RMSE'] = {'model': model2, 'val_loss': np.sqrt(val_loss)}"
   ]
  },
  {
   "cell_type": "code",
   "execution_count": 198,
   "metadata": {},
   "outputs": [
    {
     "data": {
      "image/png": "[encoded data removed]",
      "text/plain": [
       "<Figure size 1000x500 with 1 Axes>"
      ]
     },
     "metadata": {},
     "output_type": "display_data"
    }
   ],
   "source": [
    "# График:\n",
    "# Показывает, снижается ли ошибка на обучающих и валидационных данных\n",
    "# Если Val Loss растёт, а Train Loss падает – переобучение\n",
    "plt.figure(figsize=(10, 5))\n",
    "plt.plot(train_losses2, label='Train Loss')\n",
    "plt.plot(val_losses2, label='Validation Loss')\n",
    "plt.title('Losses 2: Adam + MSE')\n",
    "plt.xlabel('Epoch')\n",
    "plt.ylabel('MSE Loss')\n",
    "plt.xticks(range(0, num_epochs, 5))\n",
    "plt.legend()\n",
    "plt.grid(True)\n",
    "\n",
    "plt.tight_layout()\n",
    "plt.show()"
   ]
  },
  {
   "cell_type": "code",
   "execution_count": 199,
   "metadata": {},
   "outputs": [
    {
     "name": "stdout",
     "output_type": "stream",
     "text": [
      "  Epoch 10/100 | Train Loss: 2563141517.4737 | Val Loss: 3043578649.6000\n",
      "  Epoch 20/100 | Train Loss: 1570796496.8421 | Val Loss: 1646948876.8000\n",
      "  Epoch 30/100 | Train Loss: 1569290512.8421 | Val Loss: 1457528780.8000\n",
      "  Epoch 40/100 | Train Loss: 1423494965.8947 | Val Loss: 1240664857.6000\n",
      "  Epoch 50/100 | Train Loss: 1241940279.5789 | Val Loss: 1167859756.8000\n",
      "  Epoch 60/100 | Train Loss: 1207233448.4211 | Val Loss: 1076807833.6000\n",
      "  Epoch 70/100 | Train Loss: 1127783467.7895 | Val Loss: 1085883699.2000\n",
      "  Epoch 80/100 | Train Loss: 1118144629.8947 | Val Loss: 1017506240.0000\n",
      "  Epoch 90/100 | Train Loss: 1215186720.0000 | Val Loss: 1011029363.2000\n",
      "  Epoch 100/100 | Train Loss: 1118992291.3684 | Val Loss: 965493273.6000\n"
     ]
    }
   ],
   "source": [
    "# Обучение с MSELoss + Adam...\n",
    "val_loss, train_losses3, val_losses3 = train_loop(model3, train_loader, val_loader, criterion1, optimizer3)  # optimizer3\n",
    "results['Losses 3: Adam + RMSE'] = {'model': model3, 'val_loss': np.sqrt(val_loss)}"
   ]
  },
  {
   "cell_type": "code",
   "execution_count": 200,
   "metadata": {},
   "outputs": [
    {
     "data": {
      "image/png": "[encoded data removed]",
      "text/plain": [
       "<Figure size 1000x500 with 1 Axes>"
      ]
     },
     "metadata": {},
     "output_type": "display_data"
    }
   ],
   "source": [
    "# График:\n",
    "# Показывает, снижается ли ошибка на обучающих и валидационных данных\n",
    "# Если Val Loss растёт, а Train Loss падает – переобучение\n",
    "plt.figure(figsize=(10, 5))\n",
    "plt.plot(train_losses3, label='Train Loss')\n",
    "plt.plot(val_losses3, label='Validation Loss')\n",
    "plt.title('Losses 3: Adam + MSE')\n",
    "plt.xlabel('Epoch')\n",
    "plt.ylabel('MSE Loss')\n",
    "plt.xticks(range(0, num_epochs, 5))\n",
    "plt.legend()\n",
    "plt.grid(True)\n",
    "\n",
    "plt.tight_layout()\n",
    "plt.show()"
   ]
  },
  {
   "cell_type": "markdown",
   "metadata": {},
   "source": [
    "Повторное обучение с MAE (L1Loss)"
   ]
  },
  {
   "cell_type": "code",
   "execution_count": 201,
   "metadata": {},
   "outputs": [],
   "source": [
    "# Скорость обучения\n",
    "learning_rate2 = 0.01"
   ]
  },
  {
   "cell_type": "code",
   "execution_count": 202,
   "metadata": {},
   "outputs": [],
   "source": [
    "criterion2 = nn.L1Loss()  # MAE менее чувствителен к выбросам, чем MSE"
   ]
  },
  {
   "cell_type": "code",
   "execution_count": 203,
   "metadata": {},
   "outputs": [],
   "source": [
    "optimizer = torch.optim.Adam(model2.parameters(), lr=learning_rate2) "
   ]
  },
  {
   "cell_type": "code",
   "execution_count": 204,
   "metadata": {},
   "outputs": [
    {
     "data": {
      "text/plain": [
       "NeuralNetwork(\n",
       "  (net): Sequential(\n",
       "    (0): Linear(in_features=74, out_features=128, bias=True)\n",
       "    (1): ReLU()\n",
       "    (2): Dropout(p=0.2, inplace=False)\n",
       "    (3): Linear(in_features=128, out_features=64, bias=True)\n",
       "    (4): ReLU()\n",
       "    (5): Dropout(p=0.2, inplace=False)\n",
       "    (6): Linear(in_features=64, out_features=1, bias=True)\n",
       "  )\n",
       ")"
      ]
     },
     "execution_count": 204,
     "metadata": {},
     "output_type": "execute_result"
    }
   ],
   "source": [
    "model2.apply(reset_weights)  # Сброс весов – перезапускает обучение с нуля (иначе модель продолжит с уже обученных весов)"
   ]
  },
  {
   "cell_type": "code",
   "execution_count": 205,
   "metadata": {},
   "outputs": [
    {
     "name": "stdout",
     "output_type": "stream",
     "text": [
      "  Epoch 10/100 | Train Loss: 32551.2781 | Val Loss: 28578.0121\n",
      "  Epoch 20/100 | Train Loss: 27241.1708 | Val Loss: 22913.4598\n",
      "  Epoch 30/100 | Train Loss: 23787.6646 | Val Loss: 19431.8426\n",
      "  Epoch 40/100 | Train Loss: 23563.3906 | Val Loss: 18934.3832\n",
      "  Epoch 50/100 | Train Loss: 24062.4559 | Val Loss: 18035.3566\n",
      "  Epoch 60/100 | Train Loss: 22803.8962 | Val Loss: 17603.1266\n",
      "  Epoch 70/100 | Train Loss: 23602.2246 | Val Loss: 18652.8582\n",
      "  Epoch 80/100 | Train Loss: 22443.9548 | Val Loss: 17354.6994\n",
      "  Epoch 90/100 | Train Loss: 21859.9907 | Val Loss: 17237.7115\n",
      "  Epoch 100/100 | Train Loss: 20722.6830 | Val Loss: 17502.4006\n"
     ]
    }
   ],
   "source": [
    "# Обучение с MAE (L1Loss) + Adam...\n",
    "val_loss, train_losses, val_losses = train_loop(model2, train_loader, val_loader, criterion2, optimizer)\n",
    "results['Adam + MAE'] = {'model': model2, 'val_loss': val_loss}"
   ]
  },
  {
   "cell_type": "code",
   "execution_count": 206,
   "metadata": {},
   "outputs": [
    {
     "data": {
      "image/png": "[encoded data removed]",
      "text/plain": [
       "<Figure size 1000x500 with 1 Axes>"
      ]
     },
     "metadata": {},
     "output_type": "display_data"
    }
   ],
   "source": [
    "# График:\n",
    "# Показывает, снижается ли ошибка на обучающих и валидационных данных\n",
    "# Если Val Loss растёт, а Train Loss падает – переобучение\n",
    "plt.figure(figsize=(10, 5))\n",
    "plt.plot(train_losses, label='Train Loss')\n",
    "plt.plot(val_losses, label='Validation Loss')\n",
    "plt.title('Losses: Adam + MAE')\n",
    "plt.xlabel('Epoch')\n",
    "plt.ylabel('MAE Loss')\n",
    "plt.xticks(range(0, num_epochs, 5))\n",
    "plt.legend()\n",
    "plt.grid(True)\n",
    "\n",
    "plt.tight_layout()\n",
    "plt.show()"
   ]
  },
  {
   "cell_type": "code",
   "execution_count": 207,
   "metadata": {},
   "outputs": [],
   "source": [
    "# Смена скорости обучения\n",
    "learning_rate3 = 0.01"
   ]
  },
  {
   "cell_type": "code",
   "execution_count": 208,
   "metadata": {},
   "outputs": [],
   "source": [
    "# Смена оптимизатора на SGD\n",
    "optimizer = torch.optim.SGD(model3.parameters(), lr=learning_rate3, momentum=0.9, weight_decay=1e-5)  "
   ]
  },
  {
   "cell_type": "markdown",
   "metadata": {},
   "source": [
    "- `momentum=0.9` **(Инерция)**: Добавляет инерцию к градиенту, помогает преодолевать локальные минимумы и ускоряет обучение.\n",
    "\n",
    "- `weight_decay=1e-4` **(L2-регуляризация)**: Штрафует большие веса, предотвращает переобучение."
   ]
  },
  {
   "cell_type": "code",
   "execution_count": 209,
   "metadata": {},
   "outputs": [],
   "source": [
    "scheduler = torch.optim.lr_scheduler.ReduceLROnPlateau(optimizer, mode='min', factor=0.5, patience=15)"
   ]
  },
  {
   "cell_type": "markdown",
   "metadata": {},
   "source": [
    "- `scheduler` **(Learning Rate Scheduler)**: Снижает `lr` со временем."
   ]
  },
  {
   "cell_type": "code",
   "execution_count": 210,
   "metadata": {},
   "outputs": [
    {
     "data": {
      "text/plain": [
       "NeuralNetwork(\n",
       "  (net): Sequential(\n",
       "    (0): Linear(in_features=74, out_features=256, bias=True)\n",
       "    (1): ReLU()\n",
       "    (2): Dropout(p=0.2, inplace=False)\n",
       "    (3): Linear(in_features=256, out_features=128, bias=True)\n",
       "    (4): ReLU()\n",
       "    (5): Dropout(p=0.2, inplace=False)\n",
       "    (6): Linear(in_features=128, out_features=1, bias=True)\n",
       "  )\n",
       ")"
      ]
     },
     "execution_count": 210,
     "metadata": {},
     "output_type": "execute_result"
    }
   ],
   "source": [
    "model3.apply(reset_weights)  # Сброс весов"
   ]
  },
  {
   "cell_type": "code",
   "execution_count": 211,
   "metadata": {},
   "outputs": [
    {
     "name": "stdout",
     "output_type": "stream",
     "text": [
      "  Epoch 10/100 | Train Loss: 65275.6225 | Val Loss: 59655.1734\n",
      "  Epoch 20/100 | Train Loss: 63371.4348 | Val Loss: 59793.4258\n",
      "  Epoch 30/100 | Train Loss: 61237.2549 | Val Loss: 59498.6953\n",
      "  Early stopping at epoch 32\n"
     ]
    }
   ],
   "source": [
    "# Обучение с MAE (L1Loss) + SGD...\n",
    "val_loss, train_losses, val_losses = train_loop(model3, train_loader, val_loader, criterion2, optimizer)\n",
    "results['SGD + MAE'] = {'model': model3, 'val_loss': val_loss}"
   ]
  },
  {
   "cell_type": "code",
   "execution_count": 212,
   "metadata": {},
   "outputs": [
    {
     "data": {
      "image/png": "[encoded data removed]",
      "text/plain": [
       "<Figure size 1000x500 with 1 Axes>"
      ]
     },
     "metadata": {},
     "output_type": "display_data"
    }
   ],
   "source": [
    "# График:\n",
    "# Показывает, снижается ли ошибка на обучающих и валидационных данных\n",
    "# Если Val Loss растёт, а Train Loss падает – переобучение\n",
    "plt.figure(figsize=(10, 5))\n",
    "plt.plot(train_losses, label='Train Loss')\n",
    "plt.plot(val_losses, label='Validation Loss')\n",
    "plt.title('Losses: SGD + MAE')\n",
    "plt.xlabel('Epoch')\n",
    "plt.ylabel('MAE Loss')\n",
    "plt.xticks(range(0, num_epochs, 5))\n",
    "plt.legend()\n",
    "plt.grid(True)\n",
    "\n",
    "plt.tight_layout()\n",
    "plt.show()"
   ]
  },
  {
   "cell_type": "code",
   "execution_count": 213,
   "metadata": {},
   "outputs": [
    {
     "name": "stdout",
     "output_type": "stream",
     "text": [
      "Сравнение моделей по валидационной ошибке:\n",
      "                   Model  Validation Loss\n",
      "0             Adam + MAE     17040.888477\n",
      "1  Losses 3: Adam + RMSE     31072.387639\n",
      "2  Losses 2: Adam + RMSE     33763.500672\n",
      "3              SGD + MAE     59325.661719\n",
      "4  Losses 1: Adam + RMSE     69363.401070\n"
     ]
    }
   ],
   "source": [
    "# Вывод сравнения\n",
    "comparison = pd.DataFrame({\n",
    "    'Model': results.keys(),\n",
    "    'Validation Loss': [v['val_loss'] for v in results.values()]\n",
    "}).sort_values('Validation Loss').reset_index(drop=True)\n",
    "\n",
    "print('Сравнение моделей по валидационной ошибке:')\n",
    "print(comparison)"
   ]
  },
  {
   "cell_type": "code",
   "execution_count": 214,
   "metadata": {},
   "outputs": [
    {
     "name": "stdout",
     "output_type": "stream",
     "text": [
      "NeuralNetwork(\n",
      "  (net): Sequential(\n",
      "    (0): Linear(in_features=74, out_features=128, bias=True)\n",
      "    (1): ReLU()\n",
      "    (2): Dropout(p=0.2, inplace=False)\n",
      "    (3): Linear(in_features=128, out_features=64, bias=True)\n",
      "    (4): ReLU()\n",
      "    (5): Dropout(p=0.2, inplace=False)\n",
      "    (6): Linear(in_features=64, out_features=1, bias=True)\n",
      "  )\n",
      ")\n",
      "Лучшая модель: Adam + MAE\n"
     ]
    }
   ],
   "source": [
    "# Выбор лучшей модели\n",
    "best_model_name = comparison.iloc[0]['Model']\n",
    "best_model = results[best_model_name]['model']\n",
    "\n",
    "# Проверка \n",
    "print(best_model)\n",
    "print(f'Лучшая модель: {best_model_name}')"
   ]
  },
  {
   "attachments": {},
   "cell_type": "markdown",
   "metadata": {
    "datalore": {
     "hide_input_from_viewers": true,
     "hide_output_from_viewers": true,
     "node_id": "WHgYPYiiXxd2J3kqISUUbA",
     "type": "MD"
    }
   },
   "source": [
    "### Прогнозирование"
   ]
  },
  {
   "cell_type": "code",
   "execution_count": 215,
   "metadata": {
    "datalore": {
     "hide_input_from_viewers": true,
     "hide_output_from_viewers": true,
     "node_id": "aiGNSLedTFos5pjgz0KiMg",
     "type": "CODE"
    }
   },
   "outputs": [
    {
     "data": {
      "text/plain": [
       "array([116474.695, 160726.89 , 179170.48 , ..., 163239.7  , 127419.625,\n",
       "       232264.97 ], shape=(1459,), dtype=float32)"
      ]
     },
     "execution_count": 215,
     "metadata": {},
     "output_type": "execute_result"
    }
   ],
   "source": [
    "# Предсказание на тестовых данных\n",
    "best_model.eval()\n",
    "preds = []\n",
    "\n",
    "with torch.no_grad():\n",
    "    preds = best_model(X_test_tensor.to(device)).cpu().numpy() # Делает предсказания для тестовых данных (test.csv)\n",
    "\n",
    "# Объединяем все предсказания \n",
    "preds"
   ]
  },
  {
   "cell_type": "code",
   "execution_count": 216,
   "metadata": {
    "datalore": {
     "hide_input_from_viewers": true,
     "hide_output_from_viewers": true,
     "node_id": "NvP6Ro1j8jijcQa8KEVbbS",
     "type": "CODE"
    }
   },
   "outputs": [
    {
     "data": {
      "text/html": [
       "<div>\n",
       "<style scoped>\n",
       "    .dataframe tbody tr th:only-of-type {\n",
       "        vertical-align: middle;\n",
       "    }\n",
       "\n",
       "    .dataframe tbody tr th {\n",
       "        vertical-align: top;\n",
       "    }\n",
       "\n",
       "    .dataframe thead th {\n",
       "        text-align: right;\n",
       "    }\n",
       "</style>\n",
       "<table border=\"1\" class=\"dataframe\">\n",
       "  <thead>\n",
       "    <tr style=\"text-align: right;\">\n",
       "      <th></th>\n",
       "      <th>Id</th>\n",
       "      <th>SalePrice</th>\n",
       "    </tr>\n",
       "  </thead>\n",
       "  <tbody>\n",
       "    <tr>\n",
       "      <th>0</th>\n",
       "      <td>1461</td>\n",
       "      <td>116474.695312</td>\n",
       "    </tr>\n",
       "    <tr>\n",
       "      <th>1</th>\n",
       "      <td>1462</td>\n",
       "      <td>160726.890625</td>\n",
       "    </tr>\n",
       "    <tr>\n",
       "      <th>2</th>\n",
       "      <td>1463</td>\n",
       "      <td>179170.484375</td>\n",
       "    </tr>\n",
       "    <tr>\n",
       "      <th>3</th>\n",
       "      <td>1464</td>\n",
       "      <td>184984.265625</td>\n",
       "    </tr>\n",
       "    <tr>\n",
       "      <th>4</th>\n",
       "      <td>1465</td>\n",
       "      <td>177813.312500</td>\n",
       "    </tr>\n",
       "    <tr>\n",
       "      <th>...</th>\n",
       "      <td>...</td>\n",
       "      <td>...</td>\n",
       "    </tr>\n",
       "    <tr>\n",
       "      <th>1454</th>\n",
       "      <td>2915</td>\n",
       "      <td>90968.945312</td>\n",
       "    </tr>\n",
       "    <tr>\n",
       "      <th>1455</th>\n",
       "      <td>2916</td>\n",
       "      <td>85465.820312</td>\n",
       "    </tr>\n",
       "    <tr>\n",
       "      <th>1456</th>\n",
       "      <td>2917</td>\n",
       "      <td>163239.703125</td>\n",
       "    </tr>\n",
       "    <tr>\n",
       "      <th>1457</th>\n",
       "      <td>2918</td>\n",
       "      <td>127419.625000</td>\n",
       "    </tr>\n",
       "    <tr>\n",
       "      <th>1458</th>\n",
       "      <td>2919</td>\n",
       "      <td>232264.968750</td>\n",
       "    </tr>\n",
       "  </tbody>\n",
       "</table>\n",
       "<p>1459 rows × 2 columns</p>\n",
       "</div>"
      ],
      "text/plain": [
       "        Id      SalePrice\n",
       "0     1461  116474.695312\n",
       "1     1462  160726.890625\n",
       "2     1463  179170.484375\n",
       "3     1464  184984.265625\n",
       "4     1465  177813.312500\n",
       "...    ...            ...\n",
       "1454  2915   90968.945312\n",
       "1455  2916   85465.820312\n",
       "1456  2917  163239.703125\n",
       "1457  2918  127419.625000\n",
       "1458  2919  232264.968750\n",
       "\n",
       "[1459 rows x 2 columns]"
      ]
     },
     "execution_count": 216,
     "metadata": {},
     "output_type": "execute_result"
    }
   ],
   "source": [
    "# Создаёт DataFrame с двумя столбцами: \n",
    "output = pd.DataFrame(\n",
    "{\n",
    "    'Id':test_data['Id'],  # Id – идентификатор дома из test.csv\n",
    "    'SalePrice': np.squeeze(preds)  # SalePrice – предсказанная цена\n",
    "})\n",
    "\n",
    "output"
   ]
  },
  {
   "attachments": {},
   "cell_type": "markdown",
   "metadata": {
    "datalore": {
     "hide_input_from_viewers": true,
     "hide_output_from_viewers": true,
     "node_id": "zhCfqTBB30trs93oPG12Rz",
     "type": "MD"
    }
   },
   "source": [
    "## Задание\n",
    "\n",
    "\n",
    "В задние представлено логика выполнения с использование tensorflow/keras. Выполнять можно как с использованием tensorflow/keras, так и pytorch.\n",
    "\n",
    "\n",
    "**При выполнении:**\n",
    "\n",
    "Выведите отчет нейросетевой регрессионной модели, для  прогнозирование цены на жилье. \n",
    "\n",
    "\n",
    "Подберите  разные комбинации гиперпараметров таким образом, чтобы получить лучший результат на тестовом наборе данных.\n",
    "\n",
    "Попробуйте использовать разное количество нейронов на входном слое. Опишите достигнутый результат.\n",
    "\n",
    "Добавьте в нейронную сеть скрытый слой с разным количеством нейронов.\n",
    "\n",
    "Используйте разное количество эпох. Опишите достигнутый результат.\n",
    "\n",
    "Используйте разные размеры мини-выборки (batch_size). Опишите достигнутый результат.\n",
    "\n",
    "Попробуйте использовать разные значения оптимизатора `optimizers` и функции потерь `loss`. Сравните полученные результаты.\n",
    "\n",
    "**Вопросы:**\n",
    "\n",
    "**1. Как выше перечисленные параметры влияют на полученный вами результат?**\n",
    "\n",
    "**2. Что такое эпоха (Epoch)? В чем отличие от итерации (Iteration)?**\n",
    "\n",
    "**3. Что такое функция активации? Какие вам известны? Как и зачем используются в нейронной сети?**\n",
    "\n",
    "**4. Что такое MSE (Mean Squared Error) - Средняя квадратичная ошибка? Что такое MAE (Mean Absolute Error)? Для чего используются?**\n"
   ]
  }
 ],
 "metadata": {
  "datalore": {
   "computation_mode": "JUPYTER",
   "packages": [],
   "report_link": "https://datalore.jetbrains.com/report/Ippm1sKLQ1QOrshQAIqWf1/kPU14UXGF1igAxK1XjcH1j",
   "report_row_ids": [],
   "version": 3
  },
  "kernelspec": {
   "display_name": "Python 3",
   "language": "python",
   "name": "python3"
  },
  "language_info": {
   "codemirror_mode": {
    "name": "ipython",
    "version": 3
   },
   "file_extension": ".py",
   "mimetype": "text/x-python",
   "name": "python",
   "nbconvert_exporter": "python",
   "pygments_lexer": "ipython3",
   "version": "3.11.13"
  }
 },
 "nbformat": 4,
 "nbformat_minor": 4
}
